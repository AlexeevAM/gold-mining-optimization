{
 "cells": [
  {
   "cell_type": "markdown",
   "metadata": {},
   "source": [
    "# Описание проекта\n",
    "\n",
    "Подготовьте прототип модели машинного обучения для «Цифры». Компания разрабатывает решения для эффективной работы промышленных предприятий.\n",
    "\n",
    "Модель должна предсказать коэффициент восстановления золота из золотосодержащей руды. В вашем распоряжении данные с параметрами добычи и очистки. \n",
    "\n",
    "Модель поможет оптимизировать производство, чтобы не запускать предприятие с убыточными характеристиками.\n",
    "\n",
    "Вам нужно:\n",
    "\n",
    "1. Подготовить данные;\n",
    "2. Провести исследовательский анализ данных;\n",
    "3. Построить и обучить модель.\n",
    "\n",
    "Чтобы выполнить проект, обращайтесь к библиотекам *pandas*, *matplotlib* и *sklearn.* Вам поможет их документация."
   ]
  },
  {
   "cell_type": "markdown",
   "metadata": {},
   "source": [
    "### План работы:"
   ]
  },
  {
   "cell_type": "markdown",
   "metadata": {},
   "source": [
    "1. [Подготовка данных](#start)\n",
    "\n",
    "2. [Анализ данных](#Analysis)\n",
    "\n",
    "3. [Построение и обучение модели](#Model)\n",
    "\n",
    "4. [Общий вывод](#Conclusion)"
   ]
  },
  {
   "cell_type": "markdown",
   "metadata": {},
   "source": [
    "<a id=\"start\"></a>\n",
    "# 1. Подготовка данных"
   ]
  },
  {
   "cell_type": "code",
   "execution_count": 1,
   "metadata": {},
   "outputs": [],
   "source": [
    "import pandas as pd\n",
    "from sklearn.metrics import mean_absolute_error\n",
    "import numpy as np \n",
    "import matplotlib.pyplot as plt\n",
    "import seaborn as sns\n",
    "from sklearn.linear_model import LinearRegression\n",
    "from sklearn.preprocessing import PolynomialFeatures\n",
    "from sklearn.linear_model import Ridge\n",
    "from sklearn.tree import DecisionTreeRegressor\n",
    "from sklearn.ensemble import ExtraTreesRegressor\n",
    "from sklearn.model_selection import cross_val_score\n",
    "from sklearn.model_selection import GridSearchCV\n",
    "from sklearn.metrics import r2_score\n",
    "from sklearn.ensemble import RandomForestRegressor\n",
    "from sklearn.linear_model import LinearRegression\n",
    "from sklearn.pipeline import Pipeline\n",
    "from sklearn.linear_model import SGDRegressor\n",
    "from sklearn.svm import LinearSVR\n",
    "import warnings\n",
    "warnings.filterwarnings(\"ignore\")"
   ]
  },
  {
   "cell_type": "markdown",
   "metadata": {},
   "source": [
    "откроем датасеты, сохранив их в датафреймах с соответствующими названиями, а также  посмотрим общую информацию об этих датафреймах"
   ]
  },
  {
   "cell_type": "code",
   "execution_count": 2,
   "metadata": {},
   "outputs": [],
   "source": [
    "train=pd.read_csv('/datasets/gold_recovery_train.csv') #обучающая выборка\n",
    "test=pd.read_csv('/datasets/gold_recovery_test.csv') # тестовая выборка\n",
    "full=pd.read_csv('/datasets/gold_recovery_full.csv') # исходные данные"
   ]
  },
  {
   "cell_type": "code",
   "execution_count": 3,
   "metadata": {
    "scrolled": false
   },
   "outputs": [
    {
     "name": "stdout",
     "output_type": "stream",
     "text": [
      "<class 'pandas.core.frame.DataFrame'>\n",
      "RangeIndex: 22716 entries, 0 to 22715\n",
      "Data columns (total 87 columns):\n",
      "date                                                  22716 non-null object\n",
      "final.output.concentrate_ag                           22627 non-null float64\n",
      "final.output.concentrate_pb                           22629 non-null float64\n",
      "final.output.concentrate_sol                          22331 non-null float64\n",
      "final.output.concentrate_au                           22630 non-null float64\n",
      "final.output.recovery                                 20753 non-null float64\n",
      "final.output.tail_ag                                  22633 non-null float64\n",
      "final.output.tail_pb                                  22516 non-null float64\n",
      "final.output.tail_sol                                 22445 non-null float64\n",
      "final.output.tail_au                                  22635 non-null float64\n",
      "primary_cleaner.input.sulfate                         21107 non-null float64\n",
      "primary_cleaner.input.depressant                      21170 non-null float64\n",
      "primary_cleaner.input.feed_size                       22716 non-null float64\n",
      "primary_cleaner.input.xanthate                        21565 non-null float64\n",
      "primary_cleaner.output.concentrate_ag                 22618 non-null float64\n",
      "primary_cleaner.output.concentrate_pb                 22268 non-null float64\n",
      "primary_cleaner.output.concentrate_sol                21918 non-null float64\n",
      "primary_cleaner.output.concentrate_au                 22618 non-null float64\n",
      "primary_cleaner.output.tail_ag                        22614 non-null float64\n",
      "primary_cleaner.output.tail_pb                        22594 non-null float64\n",
      "primary_cleaner.output.tail_sol                       22365 non-null float64\n",
      "primary_cleaner.output.tail_au                        22617 non-null float64\n",
      "primary_cleaner.state.floatbank8_a_air                22660 non-null float64\n",
      "primary_cleaner.state.floatbank8_a_level              22667 non-null float64\n",
      "primary_cleaner.state.floatbank8_b_air                22660 non-null float64\n",
      "primary_cleaner.state.floatbank8_b_level              22673 non-null float64\n",
      "primary_cleaner.state.floatbank8_c_air                22662 non-null float64\n",
      "primary_cleaner.state.floatbank8_c_level              22673 non-null float64\n",
      "primary_cleaner.state.floatbank8_d_air                22661 non-null float64\n",
      "primary_cleaner.state.floatbank8_d_level              22673 non-null float64\n",
      "rougher.calculation.sulfate_to_au_concentrate         22672 non-null float64\n",
      "rougher.calculation.floatbank10_sulfate_to_au_feed    22672 non-null float64\n",
      "rougher.calculation.floatbank11_sulfate_to_au_feed    22672 non-null float64\n",
      "rougher.calculation.au_pb_ratio                       21089 non-null float64\n",
      "rougher.input.feed_ag                                 22618 non-null float64\n",
      "rougher.input.feed_pb                                 22472 non-null float64\n",
      "rougher.input.feed_rate                               22163 non-null float64\n",
      "rougher.input.feed_size                               22277 non-null float64\n",
      "rougher.input.feed_sol                                22357 non-null float64\n",
      "rougher.input.feed_au                                 22617 non-null float64\n",
      "rougher.input.floatbank10_sulfate                     21415 non-null float64\n",
      "rougher.input.floatbank10_xanthate                    22247 non-null float64\n",
      "rougher.input.floatbank11_sulfate                     22038 non-null float64\n",
      "rougher.input.floatbank11_xanthate                    20459 non-null float64\n",
      "rougher.output.concentrate_ag                         22618 non-null float64\n",
      "rougher.output.concentrate_pb                         22618 non-null float64\n",
      "rougher.output.concentrate_sol                        22526 non-null float64\n",
      "rougher.output.concentrate_au                         22618 non-null float64\n",
      "rougher.output.recovery                               19597 non-null float64\n",
      "rougher.output.tail_ag                                19979 non-null float64\n",
      "rougher.output.tail_pb                                22618 non-null float64\n",
      "rougher.output.tail_sol                               19980 non-null float64\n",
      "rougher.output.tail_au                                19980 non-null float64\n",
      "rougher.state.floatbank10_a_air                       22646 non-null float64\n",
      "rougher.state.floatbank10_a_level                     22647 non-null float64\n",
      "rougher.state.floatbank10_b_air                       22646 non-null float64\n",
      "rougher.state.floatbank10_b_level                     22647 non-null float64\n",
      "rougher.state.floatbank10_c_air                       22646 non-null float64\n",
      "rougher.state.floatbank10_c_level                     22654 non-null float64\n",
      "rougher.state.floatbank10_d_air                       22641 non-null float64\n",
      "rougher.state.floatbank10_d_level                     22649 non-null float64\n",
      "rougher.state.floatbank10_e_air                       22096 non-null float64\n",
      "rougher.state.floatbank10_e_level                     22649 non-null float64\n",
      "rougher.state.floatbank10_f_air                       22641 non-null float64\n",
      "rougher.state.floatbank10_f_level                     22642 non-null float64\n",
      "secondary_cleaner.output.tail_ag                      22616 non-null float64\n",
      "secondary_cleaner.output.tail_pb                      22600 non-null float64\n",
      "secondary_cleaner.output.tail_sol                     20501 non-null float64\n",
      "secondary_cleaner.output.tail_au                      22618 non-null float64\n",
      "secondary_cleaner.state.floatbank2_a_air              22333 non-null float64\n",
      "secondary_cleaner.state.floatbank2_a_level            22591 non-null float64\n",
      "secondary_cleaner.state.floatbank2_b_air              22538 non-null float64\n",
      "secondary_cleaner.state.floatbank2_b_level            22588 non-null float64\n",
      "secondary_cleaner.state.floatbank3_a_air              22585 non-null float64\n",
      "secondary_cleaner.state.floatbank3_a_level            22587 non-null float64\n",
      "secondary_cleaner.state.floatbank3_b_air              22592 non-null float64\n",
      "secondary_cleaner.state.floatbank3_b_level            22590 non-null float64\n",
      "secondary_cleaner.state.floatbank4_a_air              22571 non-null float64\n",
      "secondary_cleaner.state.floatbank4_a_level            22587 non-null float64\n",
      "secondary_cleaner.state.floatbank4_b_air              22608 non-null float64\n",
      "secondary_cleaner.state.floatbank4_b_level            22607 non-null float64\n",
      "secondary_cleaner.state.floatbank5_a_air              22615 non-null float64\n",
      "secondary_cleaner.state.floatbank5_a_level            22615 non-null float64\n",
      "secondary_cleaner.state.floatbank5_b_air              22615 non-null float64\n",
      "secondary_cleaner.state.floatbank5_b_level            22616 non-null float64\n",
      "secondary_cleaner.state.floatbank6_a_air              22597 non-null float64\n",
      "secondary_cleaner.state.floatbank6_a_level            22615 non-null float64\n",
      "dtypes: float64(86), object(1)\n",
      "memory usage: 15.1+ MB\n"
     ]
    }
   ],
   "source": [
    "full.info()"
   ]
  },
  {
   "cell_type": "markdown",
   "metadata": {},
   "source": [
    "посмотрим информаию о пропусках в столбцах в процентном соотношении"
   ]
  },
  {
   "cell_type": "code",
   "execution_count": 4,
   "metadata": {},
   "outputs": [
    {
     "name": "stdout",
     "output_type": "stream",
     "text": [
      "date - 0.00%\n",
      "final.output.concentrate_ag - 0.39%\n",
      "final.output.concentrate_pb - 0.38%\n",
      "final.output.concentrate_sol - 1.69%\n",
      "final.output.concentrate_au - 0.38%\n",
      "final.output.recovery - 8.64%\n",
      "final.output.tail_ag - 0.37%\n",
      "final.output.tail_pb - 0.88%\n",
      "final.output.tail_sol - 1.19%\n",
      "final.output.tail_au - 0.36%\n",
      "primary_cleaner.input.sulfate - 7.08%\n",
      "primary_cleaner.input.depressant - 6.81%\n",
      "primary_cleaner.input.feed_size - 0.00%\n",
      "primary_cleaner.input.xanthate - 5.07%\n",
      "primary_cleaner.output.concentrate_ag - 0.43%\n",
      "primary_cleaner.output.concentrate_pb - 1.97%\n",
      "primary_cleaner.output.concentrate_sol - 3.51%\n",
      "primary_cleaner.output.concentrate_au - 0.43%\n",
      "primary_cleaner.output.tail_ag - 0.45%\n",
      "primary_cleaner.output.tail_pb - 0.54%\n",
      "primary_cleaner.output.tail_sol - 1.55%\n",
      "primary_cleaner.output.tail_au - 0.44%\n",
      "primary_cleaner.state.floatbank8_a_air - 0.25%\n",
      "primary_cleaner.state.floatbank8_a_level - 0.22%\n",
      "primary_cleaner.state.floatbank8_b_air - 0.25%\n",
      "primary_cleaner.state.floatbank8_b_level - 0.19%\n",
      "primary_cleaner.state.floatbank8_c_air - 0.24%\n",
      "primary_cleaner.state.floatbank8_c_level - 0.19%\n",
      "primary_cleaner.state.floatbank8_d_air - 0.24%\n",
      "primary_cleaner.state.floatbank8_d_level - 0.19%\n",
      "rougher.calculation.sulfate_to_au_concentrate - 0.19%\n",
      "rougher.calculation.floatbank10_sulfate_to_au_feed - 0.19%\n",
      "rougher.calculation.floatbank11_sulfate_to_au_feed - 0.19%\n",
      "rougher.calculation.au_pb_ratio - 7.16%\n",
      "rougher.input.feed_ag - 0.43%\n",
      "rougher.input.feed_pb - 1.07%\n",
      "rougher.input.feed_rate - 2.43%\n",
      "rougher.input.feed_size - 1.93%\n",
      "rougher.input.feed_sol - 1.58%\n",
      "rougher.input.feed_au - 0.44%\n",
      "rougher.input.floatbank10_sulfate - 5.73%\n",
      "rougher.input.floatbank10_xanthate - 2.06%\n",
      "rougher.input.floatbank11_sulfate - 2.98%\n",
      "rougher.input.floatbank11_xanthate - 9.94%\n",
      "rougher.output.concentrate_ag - 0.43%\n",
      "rougher.output.concentrate_pb - 0.43%\n",
      "rougher.output.concentrate_sol - 0.84%\n",
      "rougher.output.concentrate_au - 0.43%\n",
      "rougher.output.recovery - 13.73%\n",
      "rougher.output.tail_ag - 12.05%\n",
      "rougher.output.tail_pb - 0.43%\n",
      "rougher.output.tail_sol - 12.04%\n",
      "rougher.output.tail_au - 12.04%\n",
      "rougher.state.floatbank10_a_air - 0.31%\n",
      "rougher.state.floatbank10_a_level - 0.30%\n",
      "rougher.state.floatbank10_b_air - 0.31%\n",
      "rougher.state.floatbank10_b_level - 0.30%\n",
      "rougher.state.floatbank10_c_air - 0.31%\n",
      "rougher.state.floatbank10_c_level - 0.27%\n",
      "rougher.state.floatbank10_d_air - 0.33%\n",
      "rougher.state.floatbank10_d_level - 0.29%\n",
      "rougher.state.floatbank10_e_air - 2.73%\n",
      "rougher.state.floatbank10_e_level - 0.29%\n",
      "rougher.state.floatbank10_f_air - 0.33%\n",
      "rougher.state.floatbank10_f_level - 0.33%\n",
      "secondary_cleaner.output.tail_ag - 0.44%\n",
      "secondary_cleaner.output.tail_pb - 0.51%\n",
      "secondary_cleaner.output.tail_sol - 9.75%\n",
      "secondary_cleaner.output.tail_au - 0.43%\n",
      "secondary_cleaner.state.floatbank2_a_air - 1.69%\n",
      "secondary_cleaner.state.floatbank2_a_level - 0.55%\n",
      "secondary_cleaner.state.floatbank2_b_air - 0.78%\n",
      "secondary_cleaner.state.floatbank2_b_level - 0.56%\n",
      "secondary_cleaner.state.floatbank3_a_air - 0.58%\n",
      "secondary_cleaner.state.floatbank3_a_level - 0.57%\n",
      "secondary_cleaner.state.floatbank3_b_air - 0.55%\n",
      "secondary_cleaner.state.floatbank3_b_level - 0.55%\n",
      "secondary_cleaner.state.floatbank4_a_air - 0.64%\n",
      "secondary_cleaner.state.floatbank4_a_level - 0.57%\n",
      "secondary_cleaner.state.floatbank4_b_air - 0.48%\n",
      "secondary_cleaner.state.floatbank4_b_level - 0.48%\n",
      "secondary_cleaner.state.floatbank5_a_air - 0.44%\n",
      "secondary_cleaner.state.floatbank5_a_level - 0.44%\n",
      "secondary_cleaner.state.floatbank5_b_air - 0.44%\n",
      "secondary_cleaner.state.floatbank5_b_level - 0.44%\n",
      "secondary_cleaner.state.floatbank6_a_air - 0.52%\n",
      "secondary_cleaner.state.floatbank6_a_level - 0.44%\n"
     ]
    }
   ],
   "source": [
    "for col in full.columns:\n",
    "    missing_full = (full[col].isnull()).mean()\n",
    "    print ('{} - {:.2f}%'.format(col, missing_full*100))"
   ]
  },
  {
   "cell_type": "code",
   "execution_count": 5,
   "metadata": {
    "scrolled": true
   },
   "outputs": [
    {
     "name": "stdout",
     "output_type": "stream",
     "text": [
      "<class 'pandas.core.frame.DataFrame'>\n",
      "RangeIndex: 16860 entries, 0 to 16859\n",
      "Data columns (total 87 columns):\n",
      "date                                                  16860 non-null object\n",
      "final.output.concentrate_ag                           16788 non-null float64\n",
      "final.output.concentrate_pb                           16788 non-null float64\n",
      "final.output.concentrate_sol                          16490 non-null float64\n",
      "final.output.concentrate_au                           16789 non-null float64\n",
      "final.output.recovery                                 15339 non-null float64\n",
      "final.output.tail_ag                                  16794 non-null float64\n",
      "final.output.tail_pb                                  16677 non-null float64\n",
      "final.output.tail_sol                                 16715 non-null float64\n",
      "final.output.tail_au                                  16794 non-null float64\n",
      "primary_cleaner.input.sulfate                         15553 non-null float64\n",
      "primary_cleaner.input.depressant                      15598 non-null float64\n",
      "primary_cleaner.input.feed_size                       16860 non-null float64\n",
      "primary_cleaner.input.xanthate                        15875 non-null float64\n",
      "primary_cleaner.output.concentrate_ag                 16778 non-null float64\n",
      "primary_cleaner.output.concentrate_pb                 16502 non-null float64\n",
      "primary_cleaner.output.concentrate_sol                16224 non-null float64\n",
      "primary_cleaner.output.concentrate_au                 16778 non-null float64\n",
      "primary_cleaner.output.tail_ag                        16777 non-null float64\n",
      "primary_cleaner.output.tail_pb                        16761 non-null float64\n",
      "primary_cleaner.output.tail_sol                       16579 non-null float64\n",
      "primary_cleaner.output.tail_au                        16777 non-null float64\n",
      "primary_cleaner.state.floatbank8_a_air                16820 non-null float64\n",
      "primary_cleaner.state.floatbank8_a_level              16827 non-null float64\n",
      "primary_cleaner.state.floatbank8_b_air                16820 non-null float64\n",
      "primary_cleaner.state.floatbank8_b_level              16833 non-null float64\n",
      "primary_cleaner.state.floatbank8_c_air                16822 non-null float64\n",
      "primary_cleaner.state.floatbank8_c_level              16833 non-null float64\n",
      "primary_cleaner.state.floatbank8_d_air                16821 non-null float64\n",
      "primary_cleaner.state.floatbank8_d_level              16833 non-null float64\n",
      "rougher.calculation.sulfate_to_au_concentrate         16833 non-null float64\n",
      "rougher.calculation.floatbank10_sulfate_to_au_feed    16833 non-null float64\n",
      "rougher.calculation.floatbank11_sulfate_to_au_feed    16833 non-null float64\n",
      "rougher.calculation.au_pb_ratio                       15618 non-null float64\n",
      "rougher.input.feed_ag                                 16778 non-null float64\n",
      "rougher.input.feed_pb                                 16632 non-null float64\n",
      "rougher.input.feed_rate                               16347 non-null float64\n",
      "rougher.input.feed_size                               16443 non-null float64\n",
      "rougher.input.feed_sol                                16568 non-null float64\n",
      "rougher.input.feed_au                                 16777 non-null float64\n",
      "rougher.input.floatbank10_sulfate                     15816 non-null float64\n",
      "rougher.input.floatbank10_xanthate                    16514 non-null float64\n",
      "rougher.input.floatbank11_sulfate                     16237 non-null float64\n",
      "rougher.input.floatbank11_xanthate                    14956 non-null float64\n",
      "rougher.output.concentrate_ag                         16778 non-null float64\n",
      "rougher.output.concentrate_pb                         16778 non-null float64\n",
      "rougher.output.concentrate_sol                        16698 non-null float64\n",
      "rougher.output.concentrate_au                         16778 non-null float64\n",
      "rougher.output.recovery                               14287 non-null float64\n",
      "rougher.output.tail_ag                                14610 non-null float64\n",
      "rougher.output.tail_pb                                16778 non-null float64\n",
      "rougher.output.tail_sol                               14611 non-null float64\n",
      "rougher.output.tail_au                                14611 non-null float64\n",
      "rougher.state.floatbank10_a_air                       16807 non-null float64\n",
      "rougher.state.floatbank10_a_level                     16807 non-null float64\n",
      "rougher.state.floatbank10_b_air                       16807 non-null float64\n",
      "rougher.state.floatbank10_b_level                     16807 non-null float64\n",
      "rougher.state.floatbank10_c_air                       16807 non-null float64\n",
      "rougher.state.floatbank10_c_level                     16814 non-null float64\n",
      "rougher.state.floatbank10_d_air                       16802 non-null float64\n",
      "rougher.state.floatbank10_d_level                     16809 non-null float64\n",
      "rougher.state.floatbank10_e_air                       16257 non-null float64\n",
      "rougher.state.floatbank10_e_level                     16809 non-null float64\n",
      "rougher.state.floatbank10_f_air                       16802 non-null float64\n",
      "rougher.state.floatbank10_f_level                     16802 non-null float64\n",
      "secondary_cleaner.output.tail_ag                      16776 non-null float64\n",
      "secondary_cleaner.output.tail_pb                      16764 non-null float64\n",
      "secondary_cleaner.output.tail_sol                     14874 non-null float64\n",
      "secondary_cleaner.output.tail_au                      16778 non-null float64\n",
      "secondary_cleaner.state.floatbank2_a_air              16497 non-null float64\n",
      "secondary_cleaner.state.floatbank2_a_level            16751 non-null float64\n",
      "secondary_cleaner.state.floatbank2_b_air              16705 non-null float64\n",
      "secondary_cleaner.state.floatbank2_b_level            16748 non-null float64\n",
      "secondary_cleaner.state.floatbank3_a_air              16763 non-null float64\n",
      "secondary_cleaner.state.floatbank3_a_level            16747 non-null float64\n",
      "secondary_cleaner.state.floatbank3_b_air              16752 non-null float64\n",
      "secondary_cleaner.state.floatbank3_b_level            16750 non-null float64\n",
      "secondary_cleaner.state.floatbank4_a_air              16731 non-null float64\n",
      "secondary_cleaner.state.floatbank4_a_level            16747 non-null float64\n",
      "secondary_cleaner.state.floatbank4_b_air              16768 non-null float64\n",
      "secondary_cleaner.state.floatbank4_b_level            16767 non-null float64\n",
      "secondary_cleaner.state.floatbank5_a_air              16775 non-null float64\n",
      "secondary_cleaner.state.floatbank5_a_level            16775 non-null float64\n",
      "secondary_cleaner.state.floatbank5_b_air              16775 non-null float64\n",
      "secondary_cleaner.state.floatbank5_b_level            16776 non-null float64\n",
      "secondary_cleaner.state.floatbank6_a_air              16757 non-null float64\n",
      "secondary_cleaner.state.floatbank6_a_level            16775 non-null float64\n",
      "dtypes: float64(86), object(1)\n",
      "memory usage: 11.2+ MB\n"
     ]
    }
   ],
   "source": [
    "train.info()"
   ]
  },
  {
   "cell_type": "code",
   "execution_count": 6,
   "metadata": {},
   "outputs": [
    {
     "name": "stdout",
     "output_type": "stream",
     "text": [
      "date - 0.00%\n",
      "final.output.concentrate_ag - 0.43%\n",
      "final.output.concentrate_pb - 0.43%\n",
      "final.output.concentrate_sol - 2.19%\n",
      "final.output.concentrate_au - 0.42%\n",
      "final.output.recovery - 9.02%\n",
      "final.output.tail_ag - 0.39%\n",
      "final.output.tail_pb - 1.09%\n",
      "final.output.tail_sol - 0.86%\n",
      "final.output.tail_au - 0.39%\n",
      "primary_cleaner.input.sulfate - 7.75%\n",
      "primary_cleaner.input.depressant - 7.49%\n",
      "primary_cleaner.input.feed_size - 0.00%\n",
      "primary_cleaner.input.xanthate - 5.84%\n",
      "primary_cleaner.output.concentrate_ag - 0.49%\n",
      "primary_cleaner.output.concentrate_pb - 2.12%\n",
      "primary_cleaner.output.concentrate_sol - 3.77%\n",
      "primary_cleaner.output.concentrate_au - 0.49%\n",
      "primary_cleaner.output.tail_ag - 0.49%\n",
      "primary_cleaner.output.tail_pb - 0.59%\n",
      "primary_cleaner.output.tail_sol - 1.67%\n",
      "primary_cleaner.output.tail_au - 0.49%\n",
      "primary_cleaner.state.floatbank8_a_air - 0.24%\n",
      "primary_cleaner.state.floatbank8_a_level - 0.20%\n",
      "primary_cleaner.state.floatbank8_b_air - 0.24%\n",
      "primary_cleaner.state.floatbank8_b_level - 0.16%\n",
      "primary_cleaner.state.floatbank8_c_air - 0.23%\n",
      "primary_cleaner.state.floatbank8_c_level - 0.16%\n",
      "primary_cleaner.state.floatbank8_d_air - 0.23%\n",
      "primary_cleaner.state.floatbank8_d_level - 0.16%\n",
      "rougher.calculation.sulfate_to_au_concentrate - 0.16%\n",
      "rougher.calculation.floatbank10_sulfate_to_au_feed - 0.16%\n",
      "rougher.calculation.floatbank11_sulfate_to_au_feed - 0.16%\n",
      "rougher.calculation.au_pb_ratio - 7.37%\n",
      "rougher.input.feed_ag - 0.49%\n",
      "rougher.input.feed_pb - 1.35%\n",
      "rougher.input.feed_rate - 3.04%\n",
      "rougher.input.feed_size - 2.47%\n",
      "rougher.input.feed_sol - 1.73%\n",
      "rougher.input.feed_au - 0.49%\n",
      "rougher.input.floatbank10_sulfate - 6.19%\n",
      "rougher.input.floatbank10_xanthate - 2.05%\n",
      "rougher.input.floatbank11_sulfate - 3.70%\n",
      "rougher.input.floatbank11_xanthate - 11.29%\n",
      "rougher.output.concentrate_ag - 0.49%\n",
      "rougher.output.concentrate_pb - 0.49%\n",
      "rougher.output.concentrate_sol - 0.96%\n",
      "rougher.output.concentrate_au - 0.49%\n",
      "rougher.output.recovery - 15.26%\n",
      "rougher.output.tail_ag - 13.35%\n",
      "rougher.output.tail_pb - 0.49%\n",
      "rougher.output.tail_sol - 13.34%\n",
      "rougher.output.tail_au - 13.34%\n",
      "rougher.state.floatbank10_a_air - 0.31%\n",
      "rougher.state.floatbank10_a_level - 0.31%\n",
      "rougher.state.floatbank10_b_air - 0.31%\n",
      "rougher.state.floatbank10_b_level - 0.31%\n",
      "rougher.state.floatbank10_c_air - 0.31%\n",
      "rougher.state.floatbank10_c_level - 0.27%\n",
      "rougher.state.floatbank10_d_air - 0.34%\n",
      "rougher.state.floatbank10_d_level - 0.30%\n",
      "rougher.state.floatbank10_e_air - 3.58%\n",
      "rougher.state.floatbank10_e_level - 0.30%\n",
      "rougher.state.floatbank10_f_air - 0.34%\n",
      "rougher.state.floatbank10_f_level - 0.34%\n",
      "secondary_cleaner.output.tail_ag - 0.50%\n",
      "secondary_cleaner.output.tail_pb - 0.57%\n",
      "secondary_cleaner.output.tail_sol - 11.78%\n",
      "secondary_cleaner.output.tail_au - 0.49%\n",
      "secondary_cleaner.state.floatbank2_a_air - 2.15%\n",
      "secondary_cleaner.state.floatbank2_a_level - 0.65%\n",
      "secondary_cleaner.state.floatbank2_b_air - 0.92%\n",
      "secondary_cleaner.state.floatbank2_b_level - 0.66%\n",
      "secondary_cleaner.state.floatbank3_a_air - 0.58%\n",
      "secondary_cleaner.state.floatbank3_a_level - 0.67%\n",
      "secondary_cleaner.state.floatbank3_b_air - 0.64%\n",
      "secondary_cleaner.state.floatbank3_b_level - 0.65%\n",
      "secondary_cleaner.state.floatbank4_a_air - 0.77%\n",
      "secondary_cleaner.state.floatbank4_a_level - 0.67%\n",
      "secondary_cleaner.state.floatbank4_b_air - 0.55%\n",
      "secondary_cleaner.state.floatbank4_b_level - 0.55%\n",
      "secondary_cleaner.state.floatbank5_a_air - 0.50%\n",
      "secondary_cleaner.state.floatbank5_a_level - 0.50%\n",
      "secondary_cleaner.state.floatbank5_b_air - 0.50%\n",
      "secondary_cleaner.state.floatbank5_b_level - 0.50%\n",
      "secondary_cleaner.state.floatbank6_a_air - 0.61%\n",
      "secondary_cleaner.state.floatbank6_a_level - 0.50%\n"
     ]
    }
   ],
   "source": [
    "for col in train.columns:\n",
    "    missing_train = (train[col].isnull()).mean()\n",
    "    print ('{} - {:.2f}%'.format(col, missing_train*100))"
   ]
  },
  {
   "cell_type": "code",
   "execution_count": 7,
   "metadata": {
    "scrolled": true
   },
   "outputs": [
    {
     "name": "stdout",
     "output_type": "stream",
     "text": [
      "<class 'pandas.core.frame.DataFrame'>\n",
      "RangeIndex: 5856 entries, 0 to 5855\n",
      "Data columns (total 53 columns):\n",
      "date                                          5856 non-null object\n",
      "primary_cleaner.input.sulfate                 5554 non-null float64\n",
      "primary_cleaner.input.depressant              5572 non-null float64\n",
      "primary_cleaner.input.feed_size               5856 non-null float64\n",
      "primary_cleaner.input.xanthate                5690 non-null float64\n",
      "primary_cleaner.state.floatbank8_a_air        5840 non-null float64\n",
      "primary_cleaner.state.floatbank8_a_level      5840 non-null float64\n",
      "primary_cleaner.state.floatbank8_b_air        5840 non-null float64\n",
      "primary_cleaner.state.floatbank8_b_level      5840 non-null float64\n",
      "primary_cleaner.state.floatbank8_c_air        5840 non-null float64\n",
      "primary_cleaner.state.floatbank8_c_level      5840 non-null float64\n",
      "primary_cleaner.state.floatbank8_d_air        5840 non-null float64\n",
      "primary_cleaner.state.floatbank8_d_level      5840 non-null float64\n",
      "rougher.input.feed_ag                         5840 non-null float64\n",
      "rougher.input.feed_pb                         5840 non-null float64\n",
      "rougher.input.feed_rate                       5816 non-null float64\n",
      "rougher.input.feed_size                       5834 non-null float64\n",
      "rougher.input.feed_sol                        5789 non-null float64\n",
      "rougher.input.feed_au                         5840 non-null float64\n",
      "rougher.input.floatbank10_sulfate             5599 non-null float64\n",
      "rougher.input.floatbank10_xanthate            5733 non-null float64\n",
      "rougher.input.floatbank11_sulfate             5801 non-null float64\n",
      "rougher.input.floatbank11_xanthate            5503 non-null float64\n",
      "rougher.state.floatbank10_a_air               5839 non-null float64\n",
      "rougher.state.floatbank10_a_level             5840 non-null float64\n",
      "rougher.state.floatbank10_b_air               5839 non-null float64\n",
      "rougher.state.floatbank10_b_level             5840 non-null float64\n",
      "rougher.state.floatbank10_c_air               5839 non-null float64\n",
      "rougher.state.floatbank10_c_level             5840 non-null float64\n",
      "rougher.state.floatbank10_d_air               5839 non-null float64\n",
      "rougher.state.floatbank10_d_level             5840 non-null float64\n",
      "rougher.state.floatbank10_e_air               5839 non-null float64\n",
      "rougher.state.floatbank10_e_level             5840 non-null float64\n",
      "rougher.state.floatbank10_f_air               5839 non-null float64\n",
      "rougher.state.floatbank10_f_level             5840 non-null float64\n",
      "secondary_cleaner.state.floatbank2_a_air      5836 non-null float64\n",
      "secondary_cleaner.state.floatbank2_a_level    5840 non-null float64\n",
      "secondary_cleaner.state.floatbank2_b_air      5833 non-null float64\n",
      "secondary_cleaner.state.floatbank2_b_level    5840 non-null float64\n",
      "secondary_cleaner.state.floatbank3_a_air      5822 non-null float64\n",
      "secondary_cleaner.state.floatbank3_a_level    5840 non-null float64\n",
      "secondary_cleaner.state.floatbank3_b_air      5840 non-null float64\n",
      "secondary_cleaner.state.floatbank3_b_level    5840 non-null float64\n",
      "secondary_cleaner.state.floatbank4_a_air      5840 non-null float64\n",
      "secondary_cleaner.state.floatbank4_a_level    5840 non-null float64\n",
      "secondary_cleaner.state.floatbank4_b_air      5840 non-null float64\n",
      "secondary_cleaner.state.floatbank4_b_level    5840 non-null float64\n",
      "secondary_cleaner.state.floatbank5_a_air      5840 non-null float64\n",
      "secondary_cleaner.state.floatbank5_a_level    5840 non-null float64\n",
      "secondary_cleaner.state.floatbank5_b_air      5840 non-null float64\n",
      "secondary_cleaner.state.floatbank5_b_level    5840 non-null float64\n",
      "secondary_cleaner.state.floatbank6_a_air      5840 non-null float64\n",
      "secondary_cleaner.state.floatbank6_a_level    5840 non-null float64\n",
      "dtypes: float64(52), object(1)\n",
      "memory usage: 2.4+ MB\n"
     ]
    }
   ],
   "source": [
    "test.info()"
   ]
  },
  {
   "cell_type": "code",
   "execution_count": 8,
   "metadata": {},
   "outputs": [
    {
     "name": "stdout",
     "output_type": "stream",
     "text": [
      "date - 0.00%\n",
      "primary_cleaner.input.sulfate - 5.16%\n",
      "primary_cleaner.input.depressant - 4.85%\n",
      "primary_cleaner.input.feed_size - 0.00%\n",
      "primary_cleaner.input.xanthate - 2.83%\n",
      "primary_cleaner.state.floatbank8_a_air - 0.27%\n",
      "primary_cleaner.state.floatbank8_a_level - 0.27%\n",
      "primary_cleaner.state.floatbank8_b_air - 0.27%\n",
      "primary_cleaner.state.floatbank8_b_level - 0.27%\n",
      "primary_cleaner.state.floatbank8_c_air - 0.27%\n",
      "primary_cleaner.state.floatbank8_c_level - 0.27%\n",
      "primary_cleaner.state.floatbank8_d_air - 0.27%\n",
      "primary_cleaner.state.floatbank8_d_level - 0.27%\n",
      "rougher.input.feed_ag - 0.27%\n",
      "rougher.input.feed_pb - 0.27%\n",
      "rougher.input.feed_rate - 0.68%\n",
      "rougher.input.feed_size - 0.38%\n",
      "rougher.input.feed_sol - 1.14%\n",
      "rougher.input.feed_au - 0.27%\n",
      "rougher.input.floatbank10_sulfate - 4.39%\n",
      "rougher.input.floatbank10_xanthate - 2.10%\n",
      "rougher.input.floatbank11_sulfate - 0.94%\n",
      "rougher.input.floatbank11_xanthate - 6.03%\n",
      "rougher.state.floatbank10_a_air - 0.29%\n",
      "rougher.state.floatbank10_a_level - 0.27%\n",
      "rougher.state.floatbank10_b_air - 0.29%\n",
      "rougher.state.floatbank10_b_level - 0.27%\n",
      "rougher.state.floatbank10_c_air - 0.29%\n",
      "rougher.state.floatbank10_c_level - 0.27%\n",
      "rougher.state.floatbank10_d_air - 0.29%\n",
      "rougher.state.floatbank10_d_level - 0.27%\n",
      "rougher.state.floatbank10_e_air - 0.29%\n",
      "rougher.state.floatbank10_e_level - 0.27%\n",
      "rougher.state.floatbank10_f_air - 0.29%\n",
      "rougher.state.floatbank10_f_level - 0.27%\n",
      "secondary_cleaner.state.floatbank2_a_air - 0.34%\n",
      "secondary_cleaner.state.floatbank2_a_level - 0.27%\n",
      "secondary_cleaner.state.floatbank2_b_air - 0.39%\n",
      "secondary_cleaner.state.floatbank2_b_level - 0.27%\n",
      "secondary_cleaner.state.floatbank3_a_air - 0.58%\n",
      "secondary_cleaner.state.floatbank3_a_level - 0.27%\n",
      "secondary_cleaner.state.floatbank3_b_air - 0.27%\n",
      "secondary_cleaner.state.floatbank3_b_level - 0.27%\n",
      "secondary_cleaner.state.floatbank4_a_air - 0.27%\n",
      "secondary_cleaner.state.floatbank4_a_level - 0.27%\n",
      "secondary_cleaner.state.floatbank4_b_air - 0.27%\n",
      "secondary_cleaner.state.floatbank4_b_level - 0.27%\n",
      "secondary_cleaner.state.floatbank5_a_air - 0.27%\n",
      "secondary_cleaner.state.floatbank5_a_level - 0.27%\n",
      "secondary_cleaner.state.floatbank5_b_air - 0.27%\n",
      "secondary_cleaner.state.floatbank5_b_level - 0.27%\n",
      "secondary_cleaner.state.floatbank6_a_air - 0.27%\n",
      "secondary_cleaner.state.floatbank6_a_level - 0.27%\n"
     ]
    }
   ],
   "source": [
    "for col in test.columns:\n",
    "    missing_test = (test[col].isnull()).mean()\n",
    "    print ('{} - {:.2f}%'.format(col, missing_test*100))"
   ]
  },
  {
   "cell_type": "markdown",
   "metadata": {},
   "source": [
    "Мы можем наблюдать нижеследующее:\n",
    "\n",
    "Датасет full содержит 87 столбцов и 22716 строк. В строках есть пропуски. \n",
    "\n",
    "Датасет train содержит 87 столбцов и 16860 строк. В строках также имеются пропуски.\n",
    "\n",
    "Датасет test содержит 53 столбца и 5856 строк. В строках имеются пропуски. \n",
    "\n",
    "Пропуски в вышеуказанных наборах информациии имеются скорее всего потому, что даные значения еще неизвестны и будут измеряться позже."
   ]
  },
  {
   "cell_type": "markdown",
   "metadata": {},
   "source": [
    "Рассчитаем эффективность обогащения чернового концентрата rougher.output.recovery из обучающей выборки, предварительно удалив пропуски из столбцов с пропусками."
   ]
  },
  {
   "cell_type": "code",
   "execution_count": 9,
   "metadata": {},
   "outputs": [
    {
     "name": "stdout",
     "output_type": "stream",
     "text": [
      "<class 'pandas.core.frame.DataFrame'>\n",
      "Int64Index: 14287 entries, 0 to 16859\n",
      "Data columns (total 87 columns):\n",
      "date                                                  14287 non-null object\n",
      "final.output.concentrate_ag                           14282 non-null float64\n",
      "final.output.concentrate_pb                           14282 non-null float64\n",
      "final.output.concentrate_sol                          14055 non-null float64\n",
      "final.output.concentrate_au                           14283 non-null float64\n",
      "final.output.recovery                                 14149 non-null float64\n",
      "final.output.tail_ag                                  14287 non-null float64\n",
      "final.output.tail_pb                                  14173 non-null float64\n",
      "final.output.tail_sol                                 14279 non-null float64\n",
      "final.output.tail_au                                  14287 non-null float64\n",
      "primary_cleaner.input.sulfate                         14261 non-null float64\n",
      "primary_cleaner.input.depressant                      14249 non-null float64\n",
      "primary_cleaner.input.feed_size                       14287 non-null float64\n",
      "primary_cleaner.input.xanthate                        14182 non-null float64\n",
      "primary_cleaner.output.concentrate_ag                 14287 non-null float64\n",
      "primary_cleaner.output.concentrate_pb                 14164 non-null float64\n",
      "primary_cleaner.output.concentrate_sol                13949 non-null float64\n",
      "primary_cleaner.output.concentrate_au                 14287 non-null float64\n",
      "primary_cleaner.output.tail_ag                        14286 non-null float64\n",
      "primary_cleaner.output.tail_pb                        14271 non-null float64\n",
      "primary_cleaner.output.tail_sol                       14208 non-null float64\n",
      "primary_cleaner.output.tail_au                        14287 non-null float64\n",
      "primary_cleaner.state.floatbank8_a_air                14283 non-null float64\n",
      "primary_cleaner.state.floatbank8_a_level              14286 non-null float64\n",
      "primary_cleaner.state.floatbank8_b_air                14283 non-null float64\n",
      "primary_cleaner.state.floatbank8_b_level              14286 non-null float64\n",
      "primary_cleaner.state.floatbank8_c_air                14285 non-null float64\n",
      "primary_cleaner.state.floatbank8_c_level              14286 non-null float64\n",
      "primary_cleaner.state.floatbank8_d_air                14284 non-null float64\n",
      "primary_cleaner.state.floatbank8_d_level              14286 non-null float64\n",
      "rougher.calculation.sulfate_to_au_concentrate         14286 non-null float64\n",
      "rougher.calculation.floatbank10_sulfate_to_au_feed    14286 non-null float64\n",
      "rougher.calculation.floatbank11_sulfate_to_au_feed    14286 non-null float64\n",
      "rougher.calculation.au_pb_ratio                       14287 non-null float64\n",
      "rougher.input.feed_ag                                 14287 non-null float64\n",
      "rougher.input.feed_pb                                 14164 non-null float64\n",
      "rougher.input.feed_rate                               14274 non-null float64\n",
      "rougher.input.feed_size                               14138 non-null float64\n",
      "rougher.input.feed_sol                                14191 non-null float64\n",
      "rougher.input.feed_au                                 14287 non-null float64\n",
      "rougher.input.floatbank10_sulfate                     14256 non-null float64\n",
      "rougher.input.floatbank10_xanthate                    14278 non-null float64\n",
      "rougher.input.floatbank11_sulfate                     14249 non-null float64\n",
      "rougher.input.floatbank11_xanthate                    13853 non-null float64\n",
      "rougher.output.concentrate_ag                         14287 non-null float64\n",
      "rougher.output.concentrate_pb                         14287 non-null float64\n",
      "rougher.output.concentrate_sol                        14261 non-null float64\n",
      "rougher.output.concentrate_au                         14287 non-null float64\n",
      "rougher.output.recovery                               14287 non-null float64\n",
      "rougher.output.tail_ag                                14286 non-null float64\n",
      "rougher.output.tail_pb                                14287 non-null float64\n",
      "rougher.output.tail_sol                               14287 non-null float64\n",
      "rougher.output.tail_au                                14287 non-null float64\n",
      "rougher.state.floatbank10_a_air                       14286 non-null float64\n",
      "rougher.state.floatbank10_a_level                     14286 non-null float64\n",
      "rougher.state.floatbank10_b_air                       14286 non-null float64\n",
      "rougher.state.floatbank10_b_level                     14286 non-null float64\n",
      "rougher.state.floatbank10_c_air                       14286 non-null float64\n",
      "rougher.state.floatbank10_c_level                     14286 non-null float64\n",
      "rougher.state.floatbank10_d_air                       14287 non-null float64\n",
      "rougher.state.floatbank10_d_level                     14287 non-null float64\n",
      "rougher.state.floatbank10_e_air                       13849 non-null float64\n",
      "rougher.state.floatbank10_e_level                     14287 non-null float64\n",
      "rougher.state.floatbank10_f_air                       14287 non-null float64\n",
      "rougher.state.floatbank10_f_level                     14287 non-null float64\n",
      "secondary_cleaner.output.tail_ag                      14285 non-null float64\n",
      "secondary_cleaner.output.tail_pb                      14277 non-null float64\n",
      "secondary_cleaner.output.tail_sol                     12633 non-null float64\n",
      "secondary_cleaner.output.tail_au                      14287 non-null float64\n",
      "secondary_cleaner.state.floatbank2_a_air              14068 non-null float64\n",
      "secondary_cleaner.state.floatbank2_a_level            14286 non-null float64\n",
      "secondary_cleaner.state.floatbank2_b_air              14264 non-null float64\n",
      "secondary_cleaner.state.floatbank2_b_level            14286 non-null float64\n",
      "secondary_cleaner.state.floatbank3_a_air              14283 non-null float64\n",
      "secondary_cleaner.state.floatbank3_a_level            14286 non-null float64\n",
      "secondary_cleaner.state.floatbank3_b_air              14286 non-null float64\n",
      "secondary_cleaner.state.floatbank3_b_level            14286 non-null float64\n",
      "secondary_cleaner.state.floatbank4_a_air              14281 non-null float64\n",
      "secondary_cleaner.state.floatbank4_a_level            14286 non-null float64\n",
      "secondary_cleaner.state.floatbank4_b_air              14286 non-null float64\n",
      "secondary_cleaner.state.floatbank4_b_level            14286 non-null float64\n",
      "secondary_cleaner.state.floatbank5_a_air              14286 non-null float64\n",
      "secondary_cleaner.state.floatbank5_a_level            14286 non-null float64\n",
      "secondary_cleaner.state.floatbank5_b_air              14286 non-null float64\n",
      "secondary_cleaner.state.floatbank5_b_level            14286 non-null float64\n",
      "secondary_cleaner.state.floatbank6_a_air              14284 non-null float64\n",
      "secondary_cleaner.state.floatbank6_a_level            14286 non-null float64\n",
      "dtypes: float64(86), object(1)\n",
      "memory usage: 9.6+ MB\n"
     ]
    }
   ],
   "source": [
    "train.dropna(subset=['rougher.output.concentrate_au', 'rougher.input.feed_au',\n",
    "                                   'rougher.output.tail_au','rougher.output.recovery'], inplace=True)\n",
    "train.info()"
   ]
  },
  {
   "cell_type": "code",
   "execution_count": 10,
   "metadata": {},
   "outputs": [
    {
     "name": "stdout",
     "output_type": "stream",
     "text": [
      "Абсолютная средняя ошибка = 1.0512313043960013e-14\n"
     ]
    }
   ],
   "source": [
    "concentrate_au_column = train['rougher.output.concentrate_au']\n",
    "feed_au_column = train['rougher.input.feed_au']\n",
    "tail_au_column = train['rougher.output.tail_au']\n",
    "input_recovery = train['rougher.output.recovery']\n",
    "calculated_recovery = concentrate_au_column * (feed_au_column - tail_au_column) / feed_au_column / (concentrate_au_column - tail_au_column) * 100\n",
    "print('Абсолютная средняя ошибка =', mean_absolute_error(input_recovery, calculated_recovery))"
   ]
  },
  {
   "cell_type": "markdown",
   "metadata": {},
   "source": [
    "Мы видим, что значение MAE имеет очень малое отклонение, а это значит, что расчетное значение rougher.output.recovery совпадает со значением признака."
   ]
  },
  {
   "cell_type": "markdown",
   "metadata": {},
   "source": [
    "Удалим пропуски в обучающей и тестовой выборке."
   ]
  },
  {
   "cell_type": "code",
   "execution_count": 11,
   "metadata": {},
   "outputs": [
    {
     "data": {
      "text/plain": [
       "date                                          0.0\n",
       "final.output.concentrate_ag                   0.0\n",
       "final.output.concentrate_pb                   0.0\n",
       "final.output.concentrate_sol                  0.0\n",
       "final.output.concentrate_au                   0.0\n",
       "                                             ... \n",
       "secondary_cleaner.state.floatbank5_a_level    0.0\n",
       "secondary_cleaner.state.floatbank5_b_air      0.0\n",
       "secondary_cleaner.state.floatbank5_b_level    0.0\n",
       "secondary_cleaner.state.floatbank6_a_air      0.0\n",
       "secondary_cleaner.state.floatbank6_a_level    0.0\n",
       "Length: 87, dtype: float64"
      ]
     },
     "execution_count": 11,
     "metadata": {},
     "output_type": "execute_result"
    }
   ],
   "source": [
    "train = train.dropna()\n",
    "train.isna().mean()"
   ]
  },
  {
   "cell_type": "code",
   "execution_count": 12,
   "metadata": {
    "scrolled": false
   },
   "outputs": [
    {
     "data": {
      "text/plain": [
       "date                                          0.0\n",
       "primary_cleaner.input.sulfate                 0.0\n",
       "primary_cleaner.input.depressant              0.0\n",
       "primary_cleaner.input.feed_size               0.0\n",
       "primary_cleaner.input.xanthate                0.0\n",
       "primary_cleaner.state.floatbank8_a_air        0.0\n",
       "primary_cleaner.state.floatbank8_a_level      0.0\n",
       "primary_cleaner.state.floatbank8_b_air        0.0\n",
       "primary_cleaner.state.floatbank8_b_level      0.0\n",
       "primary_cleaner.state.floatbank8_c_air        0.0\n",
       "primary_cleaner.state.floatbank8_c_level      0.0\n",
       "primary_cleaner.state.floatbank8_d_air        0.0\n",
       "primary_cleaner.state.floatbank8_d_level      0.0\n",
       "rougher.input.feed_ag                         0.0\n",
       "rougher.input.feed_pb                         0.0\n",
       "rougher.input.feed_rate                       0.0\n",
       "rougher.input.feed_size                       0.0\n",
       "rougher.input.feed_sol                        0.0\n",
       "rougher.input.feed_au                         0.0\n",
       "rougher.input.floatbank10_sulfate             0.0\n",
       "rougher.input.floatbank10_xanthate            0.0\n",
       "rougher.input.floatbank11_sulfate             0.0\n",
       "rougher.input.floatbank11_xanthate            0.0\n",
       "rougher.state.floatbank10_a_air               0.0\n",
       "rougher.state.floatbank10_a_level             0.0\n",
       "rougher.state.floatbank10_b_air               0.0\n",
       "rougher.state.floatbank10_b_level             0.0\n",
       "rougher.state.floatbank10_c_air               0.0\n",
       "rougher.state.floatbank10_c_level             0.0\n",
       "rougher.state.floatbank10_d_air               0.0\n",
       "rougher.state.floatbank10_d_level             0.0\n",
       "rougher.state.floatbank10_e_air               0.0\n",
       "rougher.state.floatbank10_e_level             0.0\n",
       "rougher.state.floatbank10_f_air               0.0\n",
       "rougher.state.floatbank10_f_level             0.0\n",
       "secondary_cleaner.state.floatbank2_a_air      0.0\n",
       "secondary_cleaner.state.floatbank2_a_level    0.0\n",
       "secondary_cleaner.state.floatbank2_b_air      0.0\n",
       "secondary_cleaner.state.floatbank2_b_level    0.0\n",
       "secondary_cleaner.state.floatbank3_a_air      0.0\n",
       "secondary_cleaner.state.floatbank3_a_level    0.0\n",
       "secondary_cleaner.state.floatbank3_b_air      0.0\n",
       "secondary_cleaner.state.floatbank3_b_level    0.0\n",
       "secondary_cleaner.state.floatbank4_a_air      0.0\n",
       "secondary_cleaner.state.floatbank4_a_level    0.0\n",
       "secondary_cleaner.state.floatbank4_b_air      0.0\n",
       "secondary_cleaner.state.floatbank4_b_level    0.0\n",
       "secondary_cleaner.state.floatbank5_a_air      0.0\n",
       "secondary_cleaner.state.floatbank5_a_level    0.0\n",
       "secondary_cleaner.state.floatbank5_b_air      0.0\n",
       "secondary_cleaner.state.floatbank5_b_level    0.0\n",
       "secondary_cleaner.state.floatbank6_a_air      0.0\n",
       "secondary_cleaner.state.floatbank6_a_level    0.0\n",
       "dtype: float64"
      ]
     },
     "execution_count": 12,
     "metadata": {},
     "output_type": "execute_result"
    }
   ],
   "source": [
    "test = test.dropna()\n",
    "test.isna().mean()"
   ]
  },
  {
   "cell_type": "markdown",
   "metadata": {},
   "source": [
    "В тестовой выборке отсуствуют столбцы этапов rougher.output, rougher.calculation, final.output, primary_cleaner.output и secondary_cleaner.output. Эти данные будут получены по результатам технологического процесса, эти признаки можно отнести к онлайн метрикам. Остальные признаки исторически известны, соответственно их можно отнести к оффлайн метрикам."
   ]
  },
  {
   "cell_type": "markdown",
   "metadata": {},
   "source": [
    "Выделим признаки из тестовой выборки, по которым будет обучаться модель. Признак date не несет смысла для обучающей модели. Для предсказания rougher.output.recovery будут использоватся данные из столюцов этапа rougher. Для вычисления final.output.recovery будут использованы все признаки из тестовой выборки."
   ]
  },
  {
   "cell_type": "code",
   "execution_count": 13,
   "metadata": {
    "scrolled": true
   },
   "outputs": [
    {
     "name": "stdout",
     "output_type": "stream",
     "text": [
      "{'rougher.state.floatbank10_a_level', 'rougher.input.floatbank10_xanthate', 'rougher.input.floatbank11_xanthate', 'rougher.input.feed_rate', 'rougher.input.feed_size', 'rougher.input.feed_sol', 'rougher.state.floatbank10_b_level', 'rougher.state.floatbank10_f_level', 'rougher.input.feed_pb', 'rougher.state.floatbank10_c_air', 'rougher.state.floatbank10_b_air', 'rougher.state.floatbank10_d_level', 'rougher.input.feed_au', 'rougher.input.floatbank10_sulfate', 'rougher.state.floatbank10_e_level', 'rougher.state.floatbank10_a_air', 'rougher.state.floatbank10_f_air', 'rougher.state.floatbank10_d_air', 'rougher.input.floatbank11_sulfate', 'rougher.input.feed_ag', 'rougher.state.floatbank10_e_air', 'rougher.state.floatbank10_c_level'}\n",
      "\n",
      "{'secondary_cleaner.state.floatbank5_b_air', 'secondary_cleaner.state.floatbank4_b_air', 'rougher.state.floatbank10_a_level', 'rougher.state.floatbank10_c_level', 'secondary_cleaner.state.floatbank6_a_level', 'primary_cleaner.state.floatbank8_c_level', 'secondary_cleaner.state.floatbank2_a_level', 'rougher.input.floatbank10_xanthate', 'secondary_cleaner.state.floatbank5_a_level', 'rougher.input.floatbank11_xanthate', 'secondary_cleaner.state.floatbank5_b_level', 'secondary_cleaner.state.floatbank2_b_air', 'secondary_cleaner.state.floatbank3_a_air', 'rougher.input.feed_rate', 'primary_cleaner.input.depressant', 'primary_cleaner.state.floatbank8_d_air', 'primary_cleaner.input.xanthate', 'rougher.input.feed_sol', 'primary_cleaner.state.floatbank8_d_level', 'primary_cleaner.input.feed_size', 'primary_cleaner.state.floatbank8_c_air', 'rougher.state.floatbank10_b_level', 'primary_cleaner.state.floatbank8_a_level', 'secondary_cleaner.state.floatbank4_b_level', 'rougher.state.floatbank10_f_level', 'rougher.input.feed_pb', 'rougher.state.floatbank10_c_air', 'rougher.state.floatbank10_b_air', 'rougher.state.floatbank10_d_level', 'secondary_cleaner.state.floatbank2_b_level', 'rougher.input.feed_au', 'secondary_cleaner.state.floatbank5_a_air', 'secondary_cleaner.state.floatbank3_b_air', 'secondary_cleaner.state.floatbank6_a_air', 'secondary_cleaner.state.floatbank3_a_level', 'secondary_cleaner.state.floatbank2_a_air', 'rougher.input.floatbank10_sulfate', 'primary_cleaner.state.floatbank8_b_air', 'secondary_cleaner.state.floatbank4_a_level', 'rougher.state.floatbank10_e_level', 'rougher.state.floatbank10_a_air', 'rougher.state.floatbank10_f_air', 'rougher.state.floatbank10_d_air', 'rougher.input.floatbank11_sulfate', 'primary_cleaner.input.sulfate', 'secondary_cleaner.state.floatbank4_a_air', 'rougher.input.feed_ag', 'secondary_cleaner.state.floatbank3_b_level', 'primary_cleaner.state.floatbank8_b_level', 'primary_cleaner.state.floatbank8_a_air', 'rougher.state.floatbank10_e_air', 'rougher.input.feed_size'}\n"
     ]
    }
   ],
   "source": [
    "features_columns = test.columns[1:]\n",
    "rougher_features_columns = set(features_columns[12:34])\n",
    "final_features_columns = set(features_columns)\n",
    "print(rougher_features_columns)\n",
    "print()\n",
    "print(final_features_columns)"
   ]
  },
  {
   "cell_type": "markdown",
   "metadata": {},
   "source": [
    "Визуально рассмотрим  ключевые признаки в обучающей выборке."
   ]
  },
  {
   "cell_type": "code",
   "execution_count": 14,
   "metadata": {},
   "outputs": [
    {
     "data": {
      "image/png": "[encoded data removed]",
      "text/plain": [
       "<Figure size 864x648 with 1 Axes>"
      ]
     },
     "metadata": {
      "needs_background": "light"
     },
     "output_type": "display_data"
    }
   ],
   "source": [
    "plt.figure(figsize=[12,9])\n",
    "\n",
    "plt.hist(train['rougher.output.recovery'], bins=100)\n",
    "\n",
    "plt.xlim([0, 100])\n",
    "plt.ylim([0, 700])\n",
    "\n",
    "plt.xlabel(\"Эффективность обогащения чернового концентрата \")\n",
    "plt.ylabel(\"Количество результатов\")\n",
    "\n",
    "plt.title(\"График распределения по эффективности обогащения\")\n",
    "plt.show()"
   ]
  },
  {
   "cell_type": "markdown",
   "metadata": {},
   "source": [
    "Изучим нулевые значения в столбце rougher.output.recovery."
   ]
  },
  {
   "cell_type": "code",
   "execution_count": 15,
   "metadata": {},
   "outputs": [
    {
     "data": {
      "text/html": [
       "<div>\n",
       "<style scoped>\n",
       "    .dataframe tbody tr th:only-of-type {\n",
       "        vertical-align: middle;\n",
       "    }\n",
       "\n",
       "    .dataframe tbody tr th {\n",
       "        vertical-align: top;\n",
       "    }\n",
       "\n",
       "    .dataframe thead th {\n",
       "        text-align: right;\n",
       "    }\n",
       "</style>\n",
       "<table border=\"1\" class=\"dataframe\">\n",
       "  <thead>\n",
       "    <tr style=\"text-align: right;\">\n",
       "      <th></th>\n",
       "      <th>date</th>\n",
       "      <th>final.output.concentrate_ag</th>\n",
       "      <th>final.output.concentrate_pb</th>\n",
       "      <th>final.output.concentrate_sol</th>\n",
       "      <th>final.output.concentrate_au</th>\n",
       "      <th>final.output.recovery</th>\n",
       "      <th>final.output.tail_ag</th>\n",
       "      <th>final.output.tail_pb</th>\n",
       "      <th>final.output.tail_sol</th>\n",
       "      <th>final.output.tail_au</th>\n",
       "      <th>...</th>\n",
       "      <th>secondary_cleaner.state.floatbank4_a_air</th>\n",
       "      <th>secondary_cleaner.state.floatbank4_a_level</th>\n",
       "      <th>secondary_cleaner.state.floatbank4_b_air</th>\n",
       "      <th>secondary_cleaner.state.floatbank4_b_level</th>\n",
       "      <th>secondary_cleaner.state.floatbank5_a_air</th>\n",
       "      <th>secondary_cleaner.state.floatbank5_a_level</th>\n",
       "      <th>secondary_cleaner.state.floatbank5_b_air</th>\n",
       "      <th>secondary_cleaner.state.floatbank5_b_level</th>\n",
       "      <th>secondary_cleaner.state.floatbank6_a_air</th>\n",
       "      <th>secondary_cleaner.state.floatbank6_a_level</th>\n",
       "    </tr>\n",
       "  </thead>\n",
       "  <tbody>\n",
       "    <tr>\n",
       "      <td>45</td>\n",
       "      <td>2016-01-16 21:00:00</td>\n",
       "      <td>4.566664</td>\n",
       "      <td>10.406178</td>\n",
       "      <td>4.588698</td>\n",
       "      <td>46.614456</td>\n",
       "      <td>68.403877</td>\n",
       "      <td>10.705777</td>\n",
       "      <td>1.509070</td>\n",
       "      <td>17.875134</td>\n",
       "      <td>2.509776</td>\n",
       "      <td>...</td>\n",
       "      <td>14.025588</td>\n",
       "      <td>-550.404242</td>\n",
       "      <td>12.028925</td>\n",
       "      <td>-550.570104</td>\n",
       "      <td>10.052072</td>\n",
       "      <td>-500.797905</td>\n",
       "      <td>7.984500</td>\n",
       "      <td>-499.581046</td>\n",
       "      <td>11.982025</td>\n",
       "      <td>-599.161228</td>\n",
       "    </tr>\n",
       "    <tr>\n",
       "      <td>46</td>\n",
       "      <td>2016-01-16 22:00:00</td>\n",
       "      <td>4.577832</td>\n",
       "      <td>10.691605</td>\n",
       "      <td>5.274175</td>\n",
       "      <td>46.250638</td>\n",
       "      <td>70.675633</td>\n",
       "      <td>10.728531</td>\n",
       "      <td>1.641216</td>\n",
       "      <td>18.349339</td>\n",
       "      <td>2.540843</td>\n",
       "      <td>...</td>\n",
       "      <td>14.094808</td>\n",
       "      <td>-550.676337</td>\n",
       "      <td>12.004728</td>\n",
       "      <td>-550.496522</td>\n",
       "      <td>9.953139</td>\n",
       "      <td>-500.330920</td>\n",
       "      <td>8.012074</td>\n",
       "      <td>-500.133530</td>\n",
       "      <td>11.975316</td>\n",
       "      <td>-598.839683</td>\n",
       "    </tr>\n",
       "    <tr>\n",
       "      <td>51</td>\n",
       "      <td>2016-01-17 03:00:00</td>\n",
       "      <td>5.759800</td>\n",
       "      <td>9.537415</td>\n",
       "      <td>3.997737</td>\n",
       "      <td>45.267942</td>\n",
       "      <td>68.638723</td>\n",
       "      <td>10.623064</td>\n",
       "      <td>1.217058</td>\n",
       "      <td>16.072705</td>\n",
       "      <td>2.471388</td>\n",
       "      <td>...</td>\n",
       "      <td>14.164342</td>\n",
       "      <td>-552.959690</td>\n",
       "      <td>11.917980</td>\n",
       "      <td>-549.417320</td>\n",
       "      <td>10.016315</td>\n",
       "      <td>-497.644975</td>\n",
       "      <td>7.999080</td>\n",
       "      <td>-500.112143</td>\n",
       "      <td>12.043030</td>\n",
       "      <td>-599.630112</td>\n",
       "    </tr>\n",
       "    <tr>\n",
       "      <td>52</td>\n",
       "      <td>2016-01-17 04:00:00</td>\n",
       "      <td>5.807253</td>\n",
       "      <td>10.439505</td>\n",
       "      <td>6.512951</td>\n",
       "      <td>43.237493</td>\n",
       "      <td>72.136712</td>\n",
       "      <td>10.518407</td>\n",
       "      <td>1.336890</td>\n",
       "      <td>17.750367</td>\n",
       "      <td>2.323883</td>\n",
       "      <td>...</td>\n",
       "      <td>14.097072</td>\n",
       "      <td>-549.292129</td>\n",
       "      <td>12.000525</td>\n",
       "      <td>-550.306171</td>\n",
       "      <td>9.925991</td>\n",
       "      <td>-501.985618</td>\n",
       "      <td>7.948277</td>\n",
       "      <td>-500.060988</td>\n",
       "      <td>12.005620</td>\n",
       "      <td>-601.746110</td>\n",
       "    </tr>\n",
       "    <tr>\n",
       "      <td>836</td>\n",
       "      <td>2016-02-18 20:00:00</td>\n",
       "      <td>8.478624</td>\n",
       "      <td>11.303437</td>\n",
       "      <td>10.547473</td>\n",
       "      <td>35.776254</td>\n",
       "      <td>80.041038</td>\n",
       "      <td>12.958362</td>\n",
       "      <td>2.369492</td>\n",
       "      <td>9.839622</td>\n",
       "      <td>3.066451</td>\n",
       "      <td>...</td>\n",
       "      <td>23.709602</td>\n",
       "      <td>-412.029336</td>\n",
       "      <td>22.639733</td>\n",
       "      <td>-412.896304</td>\n",
       "      <td>25.021629</td>\n",
       "      <td>-428.537556</td>\n",
       "      <td>21.011542</td>\n",
       "      <td>-400.287375</td>\n",
       "      <td>30.004867</td>\n",
       "      <td>-396.683519</td>\n",
       "    </tr>\n",
       "  </tbody>\n",
       "</table>\n",
       "<p>5 rows × 87 columns</p>\n",
       "</div>"
      ],
      "text/plain": [
       "                    date  final.output.concentrate_ag  \\\n",
       "45   2016-01-16 21:00:00                     4.566664   \n",
       "46   2016-01-16 22:00:00                     4.577832   \n",
       "51   2016-01-17 03:00:00                     5.759800   \n",
       "52   2016-01-17 04:00:00                     5.807253   \n",
       "836  2016-02-18 20:00:00                     8.478624   \n",
       "\n",
       "     final.output.concentrate_pb  final.output.concentrate_sol  \\\n",
       "45                     10.406178                      4.588698   \n",
       "46                     10.691605                      5.274175   \n",
       "51                      9.537415                      3.997737   \n",
       "52                     10.439505                      6.512951   \n",
       "836                    11.303437                     10.547473   \n",
       "\n",
       "     final.output.concentrate_au  final.output.recovery  final.output.tail_ag  \\\n",
       "45                     46.614456              68.403877             10.705777   \n",
       "46                     46.250638              70.675633             10.728531   \n",
       "51                     45.267942              68.638723             10.623064   \n",
       "52                     43.237493              72.136712             10.518407   \n",
       "836                    35.776254              80.041038             12.958362   \n",
       "\n",
       "     final.output.tail_pb  final.output.tail_sol  final.output.tail_au  ...  \\\n",
       "45               1.509070              17.875134              2.509776  ...   \n",
       "46               1.641216              18.349339              2.540843  ...   \n",
       "51               1.217058              16.072705              2.471388  ...   \n",
       "52               1.336890              17.750367              2.323883  ...   \n",
       "836              2.369492               9.839622              3.066451  ...   \n",
       "\n",
       "     secondary_cleaner.state.floatbank4_a_air  \\\n",
       "45                                  14.025588   \n",
       "46                                  14.094808   \n",
       "51                                  14.164342   \n",
       "52                                  14.097072   \n",
       "836                                 23.709602   \n",
       "\n",
       "     secondary_cleaner.state.floatbank4_a_level  \\\n",
       "45                                  -550.404242   \n",
       "46                                  -550.676337   \n",
       "51                                  -552.959690   \n",
       "52                                  -549.292129   \n",
       "836                                 -412.029336   \n",
       "\n",
       "     secondary_cleaner.state.floatbank4_b_air  \\\n",
       "45                                  12.028925   \n",
       "46                                  12.004728   \n",
       "51                                  11.917980   \n",
       "52                                  12.000525   \n",
       "836                                 22.639733   \n",
       "\n",
       "     secondary_cleaner.state.floatbank4_b_level  \\\n",
       "45                                  -550.570104   \n",
       "46                                  -550.496522   \n",
       "51                                  -549.417320   \n",
       "52                                  -550.306171   \n",
       "836                                 -412.896304   \n",
       "\n",
       "     secondary_cleaner.state.floatbank5_a_air  \\\n",
       "45                                  10.052072   \n",
       "46                                   9.953139   \n",
       "51                                  10.016315   \n",
       "52                                   9.925991   \n",
       "836                                 25.021629   \n",
       "\n",
       "     secondary_cleaner.state.floatbank5_a_level  \\\n",
       "45                                  -500.797905   \n",
       "46                                  -500.330920   \n",
       "51                                  -497.644975   \n",
       "52                                  -501.985618   \n",
       "836                                 -428.537556   \n",
       "\n",
       "     secondary_cleaner.state.floatbank5_b_air  \\\n",
       "45                                   7.984500   \n",
       "46                                   8.012074   \n",
       "51                                   7.999080   \n",
       "52                                   7.948277   \n",
       "836                                 21.011542   \n",
       "\n",
       "     secondary_cleaner.state.floatbank5_b_level  \\\n",
       "45                                  -499.581046   \n",
       "46                                  -500.133530   \n",
       "51                                  -500.112143   \n",
       "52                                  -500.060988   \n",
       "836                                 -400.287375   \n",
       "\n",
       "     secondary_cleaner.state.floatbank6_a_air  \\\n",
       "45                                  11.982025   \n",
       "46                                  11.975316   \n",
       "51                                  12.043030   \n",
       "52                                  12.005620   \n",
       "836                                 30.004867   \n",
       "\n",
       "     secondary_cleaner.state.floatbank6_a_level  \n",
       "45                                  -599.161228  \n",
       "46                                  -598.839683  \n",
       "51                                  -599.630112  \n",
       "52                                  -601.746110  \n",
       "836                                 -396.683519  \n",
       "\n",
       "[5 rows x 87 columns]"
      ]
     },
     "execution_count": 15,
     "metadata": {},
     "output_type": "execute_result"
    }
   ],
   "source": [
    "train[train['rougher.output.recovery'] < 1].head()"
   ]
  },
  {
   "cell_type": "code",
   "execution_count": 16,
   "metadata": {},
   "outputs": [
    {
     "data": {
      "text/html": [
       "<div>\n",
       "<style scoped>\n",
       "    .dataframe tbody tr th:only-of-type {\n",
       "        vertical-align: middle;\n",
       "    }\n",
       "\n",
       "    .dataframe tbody tr th {\n",
       "        vertical-align: top;\n",
       "    }\n",
       "\n",
       "    .dataframe thead th {\n",
       "        text-align: right;\n",
       "    }\n",
       "</style>\n",
       "<table border=\"1\" class=\"dataframe\">\n",
       "  <thead>\n",
       "    <tr style=\"text-align: right;\">\n",
       "      <th></th>\n",
       "      <th>date</th>\n",
       "      <th>final.output.concentrate_ag</th>\n",
       "      <th>final.output.concentrate_pb</th>\n",
       "      <th>final.output.concentrate_sol</th>\n",
       "      <th>final.output.concentrate_au</th>\n",
       "      <th>final.output.recovery</th>\n",
       "      <th>final.output.tail_ag</th>\n",
       "      <th>final.output.tail_pb</th>\n",
       "      <th>final.output.tail_sol</th>\n",
       "      <th>final.output.tail_au</th>\n",
       "      <th>...</th>\n",
       "      <th>secondary_cleaner.state.floatbank4_a_air</th>\n",
       "      <th>secondary_cleaner.state.floatbank4_a_level</th>\n",
       "      <th>secondary_cleaner.state.floatbank4_b_air</th>\n",
       "      <th>secondary_cleaner.state.floatbank4_b_level</th>\n",
       "      <th>secondary_cleaner.state.floatbank5_a_air</th>\n",
       "      <th>secondary_cleaner.state.floatbank5_a_level</th>\n",
       "      <th>secondary_cleaner.state.floatbank5_b_air</th>\n",
       "      <th>secondary_cleaner.state.floatbank5_b_level</th>\n",
       "      <th>secondary_cleaner.state.floatbank6_a_air</th>\n",
       "      <th>secondary_cleaner.state.floatbank6_a_level</th>\n",
       "    </tr>\n",
       "  </thead>\n",
       "  <tbody>\n",
       "    <tr>\n",
       "      <td>45</td>\n",
       "      <td>2016-01-16 21:00:00</td>\n",
       "      <td>4.566664</td>\n",
       "      <td>10.406178</td>\n",
       "      <td>4.588698</td>\n",
       "      <td>46.614456</td>\n",
       "      <td>68.403877</td>\n",
       "      <td>10.705777</td>\n",
       "      <td>1.509070</td>\n",
       "      <td>17.875134</td>\n",
       "      <td>2.509776</td>\n",
       "      <td>...</td>\n",
       "      <td>14.025588</td>\n",
       "      <td>-550.404242</td>\n",
       "      <td>12.028925</td>\n",
       "      <td>-550.570104</td>\n",
       "      <td>10.052072</td>\n",
       "      <td>-500.797905</td>\n",
       "      <td>7.984500</td>\n",
       "      <td>-499.581046</td>\n",
       "      <td>11.982025</td>\n",
       "      <td>-599.161228</td>\n",
       "    </tr>\n",
       "    <tr>\n",
       "      <td>46</td>\n",
       "      <td>2016-01-16 22:00:00</td>\n",
       "      <td>4.577832</td>\n",
       "      <td>10.691605</td>\n",
       "      <td>5.274175</td>\n",
       "      <td>46.250638</td>\n",
       "      <td>70.675633</td>\n",
       "      <td>10.728531</td>\n",
       "      <td>1.641216</td>\n",
       "      <td>18.349339</td>\n",
       "      <td>2.540843</td>\n",
       "      <td>...</td>\n",
       "      <td>14.094808</td>\n",
       "      <td>-550.676337</td>\n",
       "      <td>12.004728</td>\n",
       "      <td>-550.496522</td>\n",
       "      <td>9.953139</td>\n",
       "      <td>-500.330920</td>\n",
       "      <td>8.012074</td>\n",
       "      <td>-500.133530</td>\n",
       "      <td>11.975316</td>\n",
       "      <td>-598.839683</td>\n",
       "    </tr>\n",
       "    <tr>\n",
       "      <td>51</td>\n",
       "      <td>2016-01-17 03:00:00</td>\n",
       "      <td>5.759800</td>\n",
       "      <td>9.537415</td>\n",
       "      <td>3.997737</td>\n",
       "      <td>45.267942</td>\n",
       "      <td>68.638723</td>\n",
       "      <td>10.623064</td>\n",
       "      <td>1.217058</td>\n",
       "      <td>16.072705</td>\n",
       "      <td>2.471388</td>\n",
       "      <td>...</td>\n",
       "      <td>14.164342</td>\n",
       "      <td>-552.959690</td>\n",
       "      <td>11.917980</td>\n",
       "      <td>-549.417320</td>\n",
       "      <td>10.016315</td>\n",
       "      <td>-497.644975</td>\n",
       "      <td>7.999080</td>\n",
       "      <td>-500.112143</td>\n",
       "      <td>12.043030</td>\n",
       "      <td>-599.630112</td>\n",
       "    </tr>\n",
       "    <tr>\n",
       "      <td>52</td>\n",
       "      <td>2016-01-17 04:00:00</td>\n",
       "      <td>5.807253</td>\n",
       "      <td>10.439505</td>\n",
       "      <td>6.512951</td>\n",
       "      <td>43.237493</td>\n",
       "      <td>72.136712</td>\n",
       "      <td>10.518407</td>\n",
       "      <td>1.336890</td>\n",
       "      <td>17.750367</td>\n",
       "      <td>2.323883</td>\n",
       "      <td>...</td>\n",
       "      <td>14.097072</td>\n",
       "      <td>-549.292129</td>\n",
       "      <td>12.000525</td>\n",
       "      <td>-550.306171</td>\n",
       "      <td>9.925991</td>\n",
       "      <td>-501.985618</td>\n",
       "      <td>7.948277</td>\n",
       "      <td>-500.060988</td>\n",
       "      <td>12.005620</td>\n",
       "      <td>-601.746110</td>\n",
       "    </tr>\n",
       "    <tr>\n",
       "      <td>836</td>\n",
       "      <td>2016-02-18 20:00:00</td>\n",
       "      <td>8.478624</td>\n",
       "      <td>11.303437</td>\n",
       "      <td>10.547473</td>\n",
       "      <td>35.776254</td>\n",
       "      <td>80.041038</td>\n",
       "      <td>12.958362</td>\n",
       "      <td>2.369492</td>\n",
       "      <td>9.839622</td>\n",
       "      <td>3.066451</td>\n",
       "      <td>...</td>\n",
       "      <td>23.709602</td>\n",
       "      <td>-412.029336</td>\n",
       "      <td>22.639733</td>\n",
       "      <td>-412.896304</td>\n",
       "      <td>25.021629</td>\n",
       "      <td>-428.537556</td>\n",
       "      <td>21.011542</td>\n",
       "      <td>-400.287375</td>\n",
       "      <td>30.004867</td>\n",
       "      <td>-396.683519</td>\n",
       "    </tr>\n",
       "  </tbody>\n",
       "</table>\n",
       "<p>5 rows × 87 columns</p>\n",
       "</div>"
      ],
      "text/plain": [
       "                    date  final.output.concentrate_ag  \\\n",
       "45   2016-01-16 21:00:00                     4.566664   \n",
       "46   2016-01-16 22:00:00                     4.577832   \n",
       "51   2016-01-17 03:00:00                     5.759800   \n",
       "52   2016-01-17 04:00:00                     5.807253   \n",
       "836  2016-02-18 20:00:00                     8.478624   \n",
       "\n",
       "     final.output.concentrate_pb  final.output.concentrate_sol  \\\n",
       "45                     10.406178                      4.588698   \n",
       "46                     10.691605                      5.274175   \n",
       "51                      9.537415                      3.997737   \n",
       "52                     10.439505                      6.512951   \n",
       "836                    11.303437                     10.547473   \n",
       "\n",
       "     final.output.concentrate_au  final.output.recovery  final.output.tail_ag  \\\n",
       "45                     46.614456              68.403877             10.705777   \n",
       "46                     46.250638              70.675633             10.728531   \n",
       "51                     45.267942              68.638723             10.623064   \n",
       "52                     43.237493              72.136712             10.518407   \n",
       "836                    35.776254              80.041038             12.958362   \n",
       "\n",
       "     final.output.tail_pb  final.output.tail_sol  final.output.tail_au  ...  \\\n",
       "45               1.509070              17.875134              2.509776  ...   \n",
       "46               1.641216              18.349339              2.540843  ...   \n",
       "51               1.217058              16.072705              2.471388  ...   \n",
       "52               1.336890              17.750367              2.323883  ...   \n",
       "836              2.369492               9.839622              3.066451  ...   \n",
       "\n",
       "     secondary_cleaner.state.floatbank4_a_air  \\\n",
       "45                                  14.025588   \n",
       "46                                  14.094808   \n",
       "51                                  14.164342   \n",
       "52                                  14.097072   \n",
       "836                                 23.709602   \n",
       "\n",
       "     secondary_cleaner.state.floatbank4_a_level  \\\n",
       "45                                  -550.404242   \n",
       "46                                  -550.676337   \n",
       "51                                  -552.959690   \n",
       "52                                  -549.292129   \n",
       "836                                 -412.029336   \n",
       "\n",
       "     secondary_cleaner.state.floatbank4_b_air  \\\n",
       "45                                  12.028925   \n",
       "46                                  12.004728   \n",
       "51                                  11.917980   \n",
       "52                                  12.000525   \n",
       "836                                 22.639733   \n",
       "\n",
       "     secondary_cleaner.state.floatbank4_b_level  \\\n",
       "45                                  -550.570104   \n",
       "46                                  -550.496522   \n",
       "51                                  -549.417320   \n",
       "52                                  -550.306171   \n",
       "836                                 -412.896304   \n",
       "\n",
       "     secondary_cleaner.state.floatbank5_a_air  \\\n",
       "45                                  10.052072   \n",
       "46                                   9.953139   \n",
       "51                                  10.016315   \n",
       "52                                   9.925991   \n",
       "836                                 25.021629   \n",
       "\n",
       "     secondary_cleaner.state.floatbank5_a_level  \\\n",
       "45                                  -500.797905   \n",
       "46                                  -500.330920   \n",
       "51                                  -497.644975   \n",
       "52                                  -501.985618   \n",
       "836                                 -428.537556   \n",
       "\n",
       "     secondary_cleaner.state.floatbank5_b_air  \\\n",
       "45                                   7.984500   \n",
       "46                                   8.012074   \n",
       "51                                   7.999080   \n",
       "52                                   7.948277   \n",
       "836                                 21.011542   \n",
       "\n",
       "     secondary_cleaner.state.floatbank5_b_level  \\\n",
       "45                                  -499.581046   \n",
       "46                                  -500.133530   \n",
       "51                                  -500.112143   \n",
       "52                                  -500.060988   \n",
       "836                                 -400.287375   \n",
       "\n",
       "     secondary_cleaner.state.floatbank6_a_air  \\\n",
       "45                                  11.982025   \n",
       "46                                  11.975316   \n",
       "51                                  12.043030   \n",
       "52                                  12.005620   \n",
       "836                                 30.004867   \n",
       "\n",
       "     secondary_cleaner.state.floatbank6_a_level  \n",
       "45                                  -599.161228  \n",
       "46                                  -598.839683  \n",
       "51                                  -599.630112  \n",
       "52                                  -601.746110  \n",
       "836                                 -396.683519  \n",
       "\n",
       "[5 rows x 87 columns]"
      ]
     },
     "execution_count": 16,
     "metadata": {},
     "output_type": "execute_result"
    }
   ],
   "source": [
    "train[train['rougher.output.concentrate_au'] < 1].head()"
   ]
  },
  {
   "cell_type": "markdown",
   "metadata": {},
   "source": [
    "В полученных данных нет информации о этапе rougher. Удалим эти значения, так как они могут исказить данные."
   ]
  },
  {
   "cell_type": "code",
   "execution_count": 17,
   "metadata": {
    "scrolled": true
   },
   "outputs": [
    {
     "data": {
      "text/html": [
       "<div>\n",
       "<style scoped>\n",
       "    .dataframe tbody tr th:only-of-type {\n",
       "        vertical-align: middle;\n",
       "    }\n",
       "\n",
       "    .dataframe tbody tr th {\n",
       "        vertical-align: top;\n",
       "    }\n",
       "\n",
       "    .dataframe thead th {\n",
       "        text-align: right;\n",
       "    }\n",
       "</style>\n",
       "<table border=\"1\" class=\"dataframe\">\n",
       "  <thead>\n",
       "    <tr style=\"text-align: right;\">\n",
       "      <th></th>\n",
       "      <th>date</th>\n",
       "      <th>final.output.concentrate_ag</th>\n",
       "      <th>final.output.concentrate_pb</th>\n",
       "      <th>final.output.concentrate_sol</th>\n",
       "      <th>final.output.concentrate_au</th>\n",
       "      <th>final.output.recovery</th>\n",
       "      <th>final.output.tail_ag</th>\n",
       "      <th>final.output.tail_pb</th>\n",
       "      <th>final.output.tail_sol</th>\n",
       "      <th>final.output.tail_au</th>\n",
       "      <th>...</th>\n",
       "      <th>secondary_cleaner.state.floatbank4_a_air</th>\n",
       "      <th>secondary_cleaner.state.floatbank4_a_level</th>\n",
       "      <th>secondary_cleaner.state.floatbank4_b_air</th>\n",
       "      <th>secondary_cleaner.state.floatbank4_b_level</th>\n",
       "      <th>secondary_cleaner.state.floatbank5_a_air</th>\n",
       "      <th>secondary_cleaner.state.floatbank5_a_level</th>\n",
       "      <th>secondary_cleaner.state.floatbank5_b_air</th>\n",
       "      <th>secondary_cleaner.state.floatbank5_b_level</th>\n",
       "      <th>secondary_cleaner.state.floatbank6_a_air</th>\n",
       "      <th>secondary_cleaner.state.floatbank6_a_level</th>\n",
       "    </tr>\n",
       "  </thead>\n",
       "  <tbody>\n",
       "  </tbody>\n",
       "</table>\n",
       "<p>0 rows × 87 columns</p>\n",
       "</div>"
      ],
      "text/plain": [
       "Empty DataFrame\n",
       "Columns: [date, final.output.concentrate_ag, final.output.concentrate_pb, final.output.concentrate_sol, final.output.concentrate_au, final.output.recovery, final.output.tail_ag, final.output.tail_pb, final.output.tail_sol, final.output.tail_au, primary_cleaner.input.sulfate, primary_cleaner.input.depressant, primary_cleaner.input.feed_size, primary_cleaner.input.xanthate, primary_cleaner.output.concentrate_ag, primary_cleaner.output.concentrate_pb, primary_cleaner.output.concentrate_sol, primary_cleaner.output.concentrate_au, primary_cleaner.output.tail_ag, primary_cleaner.output.tail_pb, primary_cleaner.output.tail_sol, primary_cleaner.output.tail_au, primary_cleaner.state.floatbank8_a_air, primary_cleaner.state.floatbank8_a_level, primary_cleaner.state.floatbank8_b_air, primary_cleaner.state.floatbank8_b_level, primary_cleaner.state.floatbank8_c_air, primary_cleaner.state.floatbank8_c_level, primary_cleaner.state.floatbank8_d_air, primary_cleaner.state.floatbank8_d_level, rougher.calculation.sulfate_to_au_concentrate, rougher.calculation.floatbank10_sulfate_to_au_feed, rougher.calculation.floatbank11_sulfate_to_au_feed, rougher.calculation.au_pb_ratio, rougher.input.feed_ag, rougher.input.feed_pb, rougher.input.feed_rate, rougher.input.feed_size, rougher.input.feed_sol, rougher.input.feed_au, rougher.input.floatbank10_sulfate, rougher.input.floatbank10_xanthate, rougher.input.floatbank11_sulfate, rougher.input.floatbank11_xanthate, rougher.output.concentrate_ag, rougher.output.concentrate_pb, rougher.output.concentrate_sol, rougher.output.concentrate_au, rougher.output.recovery, rougher.output.tail_ag, rougher.output.tail_pb, rougher.output.tail_sol, rougher.output.tail_au, rougher.state.floatbank10_a_air, rougher.state.floatbank10_a_level, rougher.state.floatbank10_b_air, rougher.state.floatbank10_b_level, rougher.state.floatbank10_c_air, rougher.state.floatbank10_c_level, rougher.state.floatbank10_d_air, rougher.state.floatbank10_d_level, rougher.state.floatbank10_e_air, rougher.state.floatbank10_e_level, rougher.state.floatbank10_f_air, rougher.state.floatbank10_f_level, secondary_cleaner.output.tail_ag, secondary_cleaner.output.tail_pb, secondary_cleaner.output.tail_sol, secondary_cleaner.output.tail_au, secondary_cleaner.state.floatbank2_a_air, secondary_cleaner.state.floatbank2_a_level, secondary_cleaner.state.floatbank2_b_air, secondary_cleaner.state.floatbank2_b_level, secondary_cleaner.state.floatbank3_a_air, secondary_cleaner.state.floatbank3_a_level, secondary_cleaner.state.floatbank3_b_air, secondary_cleaner.state.floatbank3_b_level, secondary_cleaner.state.floatbank4_a_air, secondary_cleaner.state.floatbank4_a_level, secondary_cleaner.state.floatbank4_b_air, secondary_cleaner.state.floatbank4_b_level, secondary_cleaner.state.floatbank5_a_air, secondary_cleaner.state.floatbank5_a_level, secondary_cleaner.state.floatbank5_b_air, secondary_cleaner.state.floatbank5_b_level, secondary_cleaner.state.floatbank6_a_air, secondary_cleaner.state.floatbank6_a_level]\n",
       "Index: []\n",
       "\n",
       "[0 rows x 87 columns]"
      ]
     },
     "execution_count": 17,
     "metadata": {},
     "output_type": "execute_result"
    }
   ],
   "source": [
    "train = train.drop(train[train['rougher.output.recovery'] == 0].index)\n",
    "train[train['rougher.output.recovery'] < 1].head()"
   ]
  },
  {
   "cell_type": "code",
   "execution_count": 18,
   "metadata": {},
   "outputs": [
    {
     "data": {
      "image/png": "[encoded data removed]",
      "text/plain": [
       "<Figure size 864x648 with 1 Axes>"
      ]
     },
     "metadata": {
      "needs_background": "light"
     },
     "output_type": "display_data"
    }
   ],
   "source": [
    "plt.figure(figsize=[12,9])\n",
    "\n",
    "plt.hist(train['final.output.recovery'], bins=100)\n",
    "\n",
    "plt.xlim([0, 100])\n",
    "plt.ylim([0, 1000])\n",
    "\n",
    "plt.xlabel(\"Эффективность обогащения финального концентрата \")\n",
    "plt.ylabel(\"Количество результатов\")\n",
    "\n",
    "plt.title(\"График распределения по эффективности обогащения\")\n",
    "plt.show()"
   ]
  },
  {
   "cell_type": "code",
   "execution_count": 19,
   "metadata": {
    "scrolled": true
   },
   "outputs": [
    {
     "data": {
      "text/html": [
       "<div>\n",
       "<style scoped>\n",
       "    .dataframe tbody tr th:only-of-type {\n",
       "        vertical-align: middle;\n",
       "    }\n",
       "\n",
       "    .dataframe tbody tr th {\n",
       "        vertical-align: top;\n",
       "    }\n",
       "\n",
       "    .dataframe thead th {\n",
       "        text-align: right;\n",
       "    }\n",
       "</style>\n",
       "<table border=\"1\" class=\"dataframe\">\n",
       "  <thead>\n",
       "    <tr style=\"text-align: right;\">\n",
       "      <th></th>\n",
       "      <th>date</th>\n",
       "      <th>final.output.concentrate_ag</th>\n",
       "      <th>final.output.concentrate_pb</th>\n",
       "      <th>final.output.concentrate_sol</th>\n",
       "      <th>final.output.concentrate_au</th>\n",
       "      <th>final.output.recovery</th>\n",
       "      <th>final.output.tail_ag</th>\n",
       "      <th>final.output.tail_pb</th>\n",
       "      <th>final.output.tail_sol</th>\n",
       "      <th>final.output.tail_au</th>\n",
       "      <th>...</th>\n",
       "      <th>secondary_cleaner.state.floatbank4_a_air</th>\n",
       "      <th>secondary_cleaner.state.floatbank4_a_level</th>\n",
       "      <th>secondary_cleaner.state.floatbank4_b_air</th>\n",
       "      <th>secondary_cleaner.state.floatbank4_b_level</th>\n",
       "      <th>secondary_cleaner.state.floatbank5_a_air</th>\n",
       "      <th>secondary_cleaner.state.floatbank5_a_level</th>\n",
       "      <th>secondary_cleaner.state.floatbank5_b_air</th>\n",
       "      <th>secondary_cleaner.state.floatbank5_b_level</th>\n",
       "      <th>secondary_cleaner.state.floatbank6_a_air</th>\n",
       "      <th>secondary_cleaner.state.floatbank6_a_level</th>\n",
       "    </tr>\n",
       "  </thead>\n",
       "  <tbody>\n",
       "    <tr>\n",
       "      <td>707</td>\n",
       "      <td>2016-02-13 11:00:00</td>\n",
       "      <td>0.0</td>\n",
       "      <td>0.0</td>\n",
       "      <td>0.0</td>\n",
       "      <td>0.0</td>\n",
       "      <td>0.0</td>\n",
       "      <td>8.894029</td>\n",
       "      <td>0.843584</td>\n",
       "      <td>15.417342</td>\n",
       "      <td>1.779052</td>\n",
       "      <td>...</td>\n",
       "      <td>21.991762</td>\n",
       "      <td>-399.587122</td>\n",
       "      <td>21.988937</td>\n",
       "      <td>-401.366408</td>\n",
       "      <td>22.995012</td>\n",
       "      <td>-399.370680</td>\n",
       "      <td>20.966863</td>\n",
       "      <td>-399.308354</td>\n",
       "      <td>24.987274</td>\n",
       "      <td>-399.619808</td>\n",
       "    </tr>\n",
       "    <tr>\n",
       "      <td>1354</td>\n",
       "      <td>2016-03-11 10:00:00</td>\n",
       "      <td>0.0</td>\n",
       "      <td>0.0</td>\n",
       "      <td>0.0</td>\n",
       "      <td>0.0</td>\n",
       "      <td>0.0</td>\n",
       "      <td>10.817313</td>\n",
       "      <td>1.462800</td>\n",
       "      <td>16.407607</td>\n",
       "      <td>2.984504</td>\n",
       "      <td>...</td>\n",
       "      <td>11.979352</td>\n",
       "      <td>-453.431061</td>\n",
       "      <td>12.003445</td>\n",
       "      <td>-450.179844</td>\n",
       "      <td>11.982937</td>\n",
       "      <td>-449.856468</td>\n",
       "      <td>9.927727</td>\n",
       "      <td>-450.521700</td>\n",
       "      <td>19.971682</td>\n",
       "      <td>-500.685521</td>\n",
       "    </tr>\n",
       "    <tr>\n",
       "      <td>1355</td>\n",
       "      <td>2016-03-11 11:00:00</td>\n",
       "      <td>0.0</td>\n",
       "      <td>0.0</td>\n",
       "      <td>0.0</td>\n",
       "      <td>0.0</td>\n",
       "      <td>0.0</td>\n",
       "      <td>10.436792</td>\n",
       "      <td>1.207636</td>\n",
       "      <td>17.800392</td>\n",
       "      <td>2.747294</td>\n",
       "      <td>...</td>\n",
       "      <td>12.034636</td>\n",
       "      <td>-446.590944</td>\n",
       "      <td>12.130405</td>\n",
       "      <td>-449.684812</td>\n",
       "      <td>11.844983</td>\n",
       "      <td>-450.881424</td>\n",
       "      <td>9.916784</td>\n",
       "      <td>-449.542871</td>\n",
       "      <td>20.004767</td>\n",
       "      <td>-500.137068</td>\n",
       "    </tr>\n",
       "    <tr>\n",
       "      <td>1356</td>\n",
       "      <td>2016-03-11 12:00:00</td>\n",
       "      <td>0.0</td>\n",
       "      <td>0.0</td>\n",
       "      <td>0.0</td>\n",
       "      <td>0.0</td>\n",
       "      <td>0.0</td>\n",
       "      <td>10.637073</td>\n",
       "      <td>1.405778</td>\n",
       "      <td>17.195897</td>\n",
       "      <td>2.791440</td>\n",
       "      <td>...</td>\n",
       "      <td>12.016716</td>\n",
       "      <td>-496.613149</td>\n",
       "      <td>12.055535</td>\n",
       "      <td>-496.908551</td>\n",
       "      <td>12.091144</td>\n",
       "      <td>-496.404140</td>\n",
       "      <td>9.976074</td>\n",
       "      <td>-496.783155</td>\n",
       "      <td>19.921634</td>\n",
       "      <td>-500.769011</td>\n",
       "    </tr>\n",
       "    <tr>\n",
       "      <td>1357</td>\n",
       "      <td>2016-03-11 13:00:00</td>\n",
       "      <td>0.0</td>\n",
       "      <td>0.0</td>\n",
       "      <td>0.0</td>\n",
       "      <td>0.0</td>\n",
       "      <td>0.0</td>\n",
       "      <td>10.530320</td>\n",
       "      <td>1.461550</td>\n",
       "      <td>17.556860</td>\n",
       "      <td>2.682127</td>\n",
       "      <td>...</td>\n",
       "      <td>11.993898</td>\n",
       "      <td>-500.427824</td>\n",
       "      <td>12.083824</td>\n",
       "      <td>-500.162537</td>\n",
       "      <td>12.078809</td>\n",
       "      <td>-499.903743</td>\n",
       "      <td>10.075259</td>\n",
       "      <td>-499.540325</td>\n",
       "      <td>20.039788</td>\n",
       "      <td>-499.932405</td>\n",
       "    </tr>\n",
       "  </tbody>\n",
       "</table>\n",
       "<p>5 rows × 87 columns</p>\n",
       "</div>"
      ],
      "text/plain": [
       "                     date  final.output.concentrate_ag  \\\n",
       "707   2016-02-13 11:00:00                          0.0   \n",
       "1354  2016-03-11 10:00:00                          0.0   \n",
       "1355  2016-03-11 11:00:00                          0.0   \n",
       "1356  2016-03-11 12:00:00                          0.0   \n",
       "1357  2016-03-11 13:00:00                          0.0   \n",
       "\n",
       "      final.output.concentrate_pb  final.output.concentrate_sol  \\\n",
       "707                           0.0                           0.0   \n",
       "1354                          0.0                           0.0   \n",
       "1355                          0.0                           0.0   \n",
       "1356                          0.0                           0.0   \n",
       "1357                          0.0                           0.0   \n",
       "\n",
       "      final.output.concentrate_au  final.output.recovery  \\\n",
       "707                           0.0                    0.0   \n",
       "1354                          0.0                    0.0   \n",
       "1355                          0.0                    0.0   \n",
       "1356                          0.0                    0.0   \n",
       "1357                          0.0                    0.0   \n",
       "\n",
       "      final.output.tail_ag  final.output.tail_pb  final.output.tail_sol  \\\n",
       "707               8.894029              0.843584              15.417342   \n",
       "1354             10.817313              1.462800              16.407607   \n",
       "1355             10.436792              1.207636              17.800392   \n",
       "1356             10.637073              1.405778              17.195897   \n",
       "1357             10.530320              1.461550              17.556860   \n",
       "\n",
       "      final.output.tail_au  ...  secondary_cleaner.state.floatbank4_a_air  \\\n",
       "707               1.779052  ...                                 21.991762   \n",
       "1354              2.984504  ...                                 11.979352   \n",
       "1355              2.747294  ...                                 12.034636   \n",
       "1356              2.791440  ...                                 12.016716   \n",
       "1357              2.682127  ...                                 11.993898   \n",
       "\n",
       "      secondary_cleaner.state.floatbank4_a_level  \\\n",
       "707                                  -399.587122   \n",
       "1354                                 -453.431061   \n",
       "1355                                 -446.590944   \n",
       "1356                                 -496.613149   \n",
       "1357                                 -500.427824   \n",
       "\n",
       "      secondary_cleaner.state.floatbank4_b_air  \\\n",
       "707                                  21.988937   \n",
       "1354                                 12.003445   \n",
       "1355                                 12.130405   \n",
       "1356                                 12.055535   \n",
       "1357                                 12.083824   \n",
       "\n",
       "      secondary_cleaner.state.floatbank4_b_level  \\\n",
       "707                                  -401.366408   \n",
       "1354                                 -450.179844   \n",
       "1355                                 -449.684812   \n",
       "1356                                 -496.908551   \n",
       "1357                                 -500.162537   \n",
       "\n",
       "      secondary_cleaner.state.floatbank5_a_air  \\\n",
       "707                                  22.995012   \n",
       "1354                                 11.982937   \n",
       "1355                                 11.844983   \n",
       "1356                                 12.091144   \n",
       "1357                                 12.078809   \n",
       "\n",
       "      secondary_cleaner.state.floatbank5_a_level  \\\n",
       "707                                  -399.370680   \n",
       "1354                                 -449.856468   \n",
       "1355                                 -450.881424   \n",
       "1356                                 -496.404140   \n",
       "1357                                 -499.903743   \n",
       "\n",
       "      secondary_cleaner.state.floatbank5_b_air  \\\n",
       "707                                  20.966863   \n",
       "1354                                  9.927727   \n",
       "1355                                  9.916784   \n",
       "1356                                  9.976074   \n",
       "1357                                 10.075259   \n",
       "\n",
       "      secondary_cleaner.state.floatbank5_b_level  \\\n",
       "707                                  -399.308354   \n",
       "1354                                 -450.521700   \n",
       "1355                                 -449.542871   \n",
       "1356                                 -496.783155   \n",
       "1357                                 -499.540325   \n",
       "\n",
       "      secondary_cleaner.state.floatbank6_a_air  \\\n",
       "707                                  24.987274   \n",
       "1354                                 19.971682   \n",
       "1355                                 20.004767   \n",
       "1356                                 19.921634   \n",
       "1357                                 20.039788   \n",
       "\n",
       "      secondary_cleaner.state.floatbank6_a_level  \n",
       "707                                  -399.619808  \n",
       "1354                                 -500.685521  \n",
       "1355                                 -500.137068  \n",
       "1356                                 -500.769011  \n",
       "1357                                 -499.932405  \n",
       "\n",
       "[5 rows x 87 columns]"
      ]
     },
     "execution_count": 19,
     "metadata": {},
     "output_type": "execute_result"
    }
   ],
   "source": [
    "train[train['final.output.recovery'] < 1].head()"
   ]
  },
  {
   "cell_type": "code",
   "execution_count": 20,
   "metadata": {
    "scrolled": true
   },
   "outputs": [
    {
     "data": {
      "text/html": [
       "<div>\n",
       "<style scoped>\n",
       "    .dataframe tbody tr th:only-of-type {\n",
       "        vertical-align: middle;\n",
       "    }\n",
       "\n",
       "    .dataframe tbody tr th {\n",
       "        vertical-align: top;\n",
       "    }\n",
       "\n",
       "    .dataframe thead th {\n",
       "        text-align: right;\n",
       "    }\n",
       "</style>\n",
       "<table border=\"1\" class=\"dataframe\">\n",
       "  <thead>\n",
       "    <tr style=\"text-align: right;\">\n",
       "      <th></th>\n",
       "      <th>date</th>\n",
       "      <th>final.output.concentrate_ag</th>\n",
       "      <th>final.output.concentrate_pb</th>\n",
       "      <th>final.output.concentrate_sol</th>\n",
       "      <th>final.output.concentrate_au</th>\n",
       "      <th>final.output.recovery</th>\n",
       "      <th>final.output.tail_ag</th>\n",
       "      <th>final.output.tail_pb</th>\n",
       "      <th>final.output.tail_sol</th>\n",
       "      <th>final.output.tail_au</th>\n",
       "      <th>...</th>\n",
       "      <th>secondary_cleaner.state.floatbank4_a_air</th>\n",
       "      <th>secondary_cleaner.state.floatbank4_a_level</th>\n",
       "      <th>secondary_cleaner.state.floatbank4_b_air</th>\n",
       "      <th>secondary_cleaner.state.floatbank4_b_level</th>\n",
       "      <th>secondary_cleaner.state.floatbank5_a_air</th>\n",
       "      <th>secondary_cleaner.state.floatbank5_a_level</th>\n",
       "      <th>secondary_cleaner.state.floatbank5_b_air</th>\n",
       "      <th>secondary_cleaner.state.floatbank5_b_level</th>\n",
       "      <th>secondary_cleaner.state.floatbank6_a_air</th>\n",
       "      <th>secondary_cleaner.state.floatbank6_a_level</th>\n",
       "    </tr>\n",
       "  </thead>\n",
       "  <tbody>\n",
       "  </tbody>\n",
       "</table>\n",
       "<p>0 rows × 87 columns</p>\n",
       "</div>"
      ],
      "text/plain": [
       "Empty DataFrame\n",
       "Columns: [date, final.output.concentrate_ag, final.output.concentrate_pb, final.output.concentrate_sol, final.output.concentrate_au, final.output.recovery, final.output.tail_ag, final.output.tail_pb, final.output.tail_sol, final.output.tail_au, primary_cleaner.input.sulfate, primary_cleaner.input.depressant, primary_cleaner.input.feed_size, primary_cleaner.input.xanthate, primary_cleaner.output.concentrate_ag, primary_cleaner.output.concentrate_pb, primary_cleaner.output.concentrate_sol, primary_cleaner.output.concentrate_au, primary_cleaner.output.tail_ag, primary_cleaner.output.tail_pb, primary_cleaner.output.tail_sol, primary_cleaner.output.tail_au, primary_cleaner.state.floatbank8_a_air, primary_cleaner.state.floatbank8_a_level, primary_cleaner.state.floatbank8_b_air, primary_cleaner.state.floatbank8_b_level, primary_cleaner.state.floatbank8_c_air, primary_cleaner.state.floatbank8_c_level, primary_cleaner.state.floatbank8_d_air, primary_cleaner.state.floatbank8_d_level, rougher.calculation.sulfate_to_au_concentrate, rougher.calculation.floatbank10_sulfate_to_au_feed, rougher.calculation.floatbank11_sulfate_to_au_feed, rougher.calculation.au_pb_ratio, rougher.input.feed_ag, rougher.input.feed_pb, rougher.input.feed_rate, rougher.input.feed_size, rougher.input.feed_sol, rougher.input.feed_au, rougher.input.floatbank10_sulfate, rougher.input.floatbank10_xanthate, rougher.input.floatbank11_sulfate, rougher.input.floatbank11_xanthate, rougher.output.concentrate_ag, rougher.output.concentrate_pb, rougher.output.concentrate_sol, rougher.output.concentrate_au, rougher.output.recovery, rougher.output.tail_ag, rougher.output.tail_pb, rougher.output.tail_sol, rougher.output.tail_au, rougher.state.floatbank10_a_air, rougher.state.floatbank10_a_level, rougher.state.floatbank10_b_air, rougher.state.floatbank10_b_level, rougher.state.floatbank10_c_air, rougher.state.floatbank10_c_level, rougher.state.floatbank10_d_air, rougher.state.floatbank10_d_level, rougher.state.floatbank10_e_air, rougher.state.floatbank10_e_level, rougher.state.floatbank10_f_air, rougher.state.floatbank10_f_level, secondary_cleaner.output.tail_ag, secondary_cleaner.output.tail_pb, secondary_cleaner.output.tail_sol, secondary_cleaner.output.tail_au, secondary_cleaner.state.floatbank2_a_air, secondary_cleaner.state.floatbank2_a_level, secondary_cleaner.state.floatbank2_b_air, secondary_cleaner.state.floatbank2_b_level, secondary_cleaner.state.floatbank3_a_air, secondary_cleaner.state.floatbank3_a_level, secondary_cleaner.state.floatbank3_b_air, secondary_cleaner.state.floatbank3_b_level, secondary_cleaner.state.floatbank4_a_air, secondary_cleaner.state.floatbank4_a_level, secondary_cleaner.state.floatbank4_b_air, secondary_cleaner.state.floatbank4_b_level, secondary_cleaner.state.floatbank5_a_air, secondary_cleaner.state.floatbank5_a_level, secondary_cleaner.state.floatbank5_b_air, secondary_cleaner.state.floatbank5_b_level, secondary_cleaner.state.floatbank6_a_air, secondary_cleaner.state.floatbank6_a_level]\n",
       "Index: []\n",
       "\n",
       "[0 rows x 87 columns]"
      ]
     },
     "execution_count": 20,
     "metadata": {},
     "output_type": "execute_result"
    }
   ],
   "source": [
    "train = train.drop(train[train['final.output.recovery'] == 0].index)\n",
    "train[train['final.output.recovery'] < 1].head()"
   ]
  },
  {
   "cell_type": "code",
   "execution_count": 21,
   "metadata": {},
   "outputs": [
    {
     "name": "stdout",
     "output_type": "stream",
     "text": [
      "<class 'pandas.core.frame.DataFrame'>\n",
      "Int64Index: 10784 entries, 0 to 16859\n",
      "Data columns (total 87 columns):\n",
      "date                                                  10784 non-null object\n",
      "final.output.concentrate_ag                           10784 non-null float64\n",
      "final.output.concentrate_pb                           10784 non-null float64\n",
      "final.output.concentrate_sol                          10784 non-null float64\n",
      "final.output.concentrate_au                           10784 non-null float64\n",
      "final.output.recovery                                 10784 non-null float64\n",
      "final.output.tail_ag                                  10784 non-null float64\n",
      "final.output.tail_pb                                  10784 non-null float64\n",
      "final.output.tail_sol                                 10784 non-null float64\n",
      "final.output.tail_au                                  10784 non-null float64\n",
      "primary_cleaner.input.sulfate                         10784 non-null float64\n",
      "primary_cleaner.input.depressant                      10784 non-null float64\n",
      "primary_cleaner.input.feed_size                       10784 non-null float64\n",
      "primary_cleaner.input.xanthate                        10784 non-null float64\n",
      "primary_cleaner.output.concentrate_ag                 10784 non-null float64\n",
      "primary_cleaner.output.concentrate_pb                 10784 non-null float64\n",
      "primary_cleaner.output.concentrate_sol                10784 non-null float64\n",
      "primary_cleaner.output.concentrate_au                 10784 non-null float64\n",
      "primary_cleaner.output.tail_ag                        10784 non-null float64\n",
      "primary_cleaner.output.tail_pb                        10784 non-null float64\n",
      "primary_cleaner.output.tail_sol                       10784 non-null float64\n",
      "primary_cleaner.output.tail_au                        10784 non-null float64\n",
      "primary_cleaner.state.floatbank8_a_air                10784 non-null float64\n",
      "primary_cleaner.state.floatbank8_a_level              10784 non-null float64\n",
      "primary_cleaner.state.floatbank8_b_air                10784 non-null float64\n",
      "primary_cleaner.state.floatbank8_b_level              10784 non-null float64\n",
      "primary_cleaner.state.floatbank8_c_air                10784 non-null float64\n",
      "primary_cleaner.state.floatbank8_c_level              10784 non-null float64\n",
      "primary_cleaner.state.floatbank8_d_air                10784 non-null float64\n",
      "primary_cleaner.state.floatbank8_d_level              10784 non-null float64\n",
      "rougher.calculation.sulfate_to_au_concentrate         10784 non-null float64\n",
      "rougher.calculation.floatbank10_sulfate_to_au_feed    10784 non-null float64\n",
      "rougher.calculation.floatbank11_sulfate_to_au_feed    10784 non-null float64\n",
      "rougher.calculation.au_pb_ratio                       10784 non-null float64\n",
      "rougher.input.feed_ag                                 10784 non-null float64\n",
      "rougher.input.feed_pb                                 10784 non-null float64\n",
      "rougher.input.feed_rate                               10784 non-null float64\n",
      "rougher.input.feed_size                               10784 non-null float64\n",
      "rougher.input.feed_sol                                10784 non-null float64\n",
      "rougher.input.feed_au                                 10784 non-null float64\n",
      "rougher.input.floatbank10_sulfate                     10784 non-null float64\n",
      "rougher.input.floatbank10_xanthate                    10784 non-null float64\n",
      "rougher.input.floatbank11_sulfate                     10784 non-null float64\n",
      "rougher.input.floatbank11_xanthate                    10784 non-null float64\n",
      "rougher.output.concentrate_ag                         10784 non-null float64\n",
      "rougher.output.concentrate_pb                         10784 non-null float64\n",
      "rougher.output.concentrate_sol                        10784 non-null float64\n",
      "rougher.output.concentrate_au                         10784 non-null float64\n",
      "rougher.output.recovery                               10784 non-null float64\n",
      "rougher.output.tail_ag                                10784 non-null float64\n",
      "rougher.output.tail_pb                                10784 non-null float64\n",
      "rougher.output.tail_sol                               10784 non-null float64\n",
      "rougher.output.tail_au                                10784 non-null float64\n",
      "rougher.state.floatbank10_a_air                       10784 non-null float64\n",
      "rougher.state.floatbank10_a_level                     10784 non-null float64\n",
      "rougher.state.floatbank10_b_air                       10784 non-null float64\n",
      "rougher.state.floatbank10_b_level                     10784 non-null float64\n",
      "rougher.state.floatbank10_c_air                       10784 non-null float64\n",
      "rougher.state.floatbank10_c_level                     10784 non-null float64\n",
      "rougher.state.floatbank10_d_air                       10784 non-null float64\n",
      "rougher.state.floatbank10_d_level                     10784 non-null float64\n",
      "rougher.state.floatbank10_e_air                       10784 non-null float64\n",
      "rougher.state.floatbank10_e_level                     10784 non-null float64\n",
      "rougher.state.floatbank10_f_air                       10784 non-null float64\n",
      "rougher.state.floatbank10_f_level                     10784 non-null float64\n",
      "secondary_cleaner.output.tail_ag                      10784 non-null float64\n",
      "secondary_cleaner.output.tail_pb                      10784 non-null float64\n",
      "secondary_cleaner.output.tail_sol                     10784 non-null float64\n",
      "secondary_cleaner.output.tail_au                      10784 non-null float64\n",
      "secondary_cleaner.state.floatbank2_a_air              10784 non-null float64\n",
      "secondary_cleaner.state.floatbank2_a_level            10784 non-null float64\n",
      "secondary_cleaner.state.floatbank2_b_air              10784 non-null float64\n",
      "secondary_cleaner.state.floatbank2_b_level            10784 non-null float64\n",
      "secondary_cleaner.state.floatbank3_a_air              10784 non-null float64\n",
      "secondary_cleaner.state.floatbank3_a_level            10784 non-null float64\n",
      "secondary_cleaner.state.floatbank3_b_air              10784 non-null float64\n",
      "secondary_cleaner.state.floatbank3_b_level            10784 non-null float64\n",
      "secondary_cleaner.state.floatbank4_a_air              10784 non-null float64\n",
      "secondary_cleaner.state.floatbank4_a_level            10784 non-null float64\n",
      "secondary_cleaner.state.floatbank4_b_air              10784 non-null float64\n",
      "secondary_cleaner.state.floatbank4_b_level            10784 non-null float64\n",
      "secondary_cleaner.state.floatbank5_a_air              10784 non-null float64\n",
      "secondary_cleaner.state.floatbank5_a_level            10784 non-null float64\n",
      "secondary_cleaner.state.floatbank5_b_air              10784 non-null float64\n",
      "secondary_cleaner.state.floatbank5_b_level            10784 non-null float64\n",
      "secondary_cleaner.state.floatbank6_a_air              10784 non-null float64\n",
      "secondary_cleaner.state.floatbank6_a_level            10784 non-null float64\n",
      "dtypes: float64(86), object(1)\n",
      "memory usage: 7.2+ MB\n"
     ]
    }
   ],
   "source": [
    "train.info()\n"
   ]
  },
  {
   "cell_type": "markdown",
   "metadata": {},
   "source": [
    "Проверим, есть ли нулевые значения в primary_cleaner.output и secondary_cleaner.output."
   ]
  },
  {
   "cell_type": "code",
   "execution_count": 22,
   "metadata": {
    "scrolled": true
   },
   "outputs": [
    {
     "data": {
      "text/plain": [
       "109"
      ]
     },
     "execution_count": 22,
     "metadata": {},
     "output_type": "execute_result"
    }
   ],
   "source": [
    "train[train['primary_cleaner.output.concentrate_au'] < 1]['primary_cleaner.output.concentrate_au'].count()"
   ]
  },
  {
   "cell_type": "code",
   "execution_count": 23,
   "metadata": {
    "scrolled": true
   },
   "outputs": [
    {
     "data": {
      "text/plain": [
       "426"
      ]
     },
     "execution_count": 23,
     "metadata": {},
     "output_type": "execute_result"
    }
   ],
   "source": [
    "train[train['secondary_cleaner.output.tail_au'] < 1]['secondary_cleaner.output.tail_au'].count()"
   ]
  },
  {
   "cell_type": "markdown",
   "metadata": {},
   "source": [
    "По данным этапам также присутвуют значения равные нулю, но так как они не являются целевыми признаками и не входят в список признаков обучающей модели, оставим их без изменения."
   ]
  },
  {
   "cell_type": "markdown",
   "metadata": {},
   "source": [
    "## Выводы"
   ]
  },
  {
   "cell_type": "markdown",
   "metadata": {},
   "source": [
    "В ходе выполнения первого шага мы сделали нижеледующее.\n",
    "\n",
    "Нами открыты и изучены файлы, сохранены в соответствующих датафреймах под назваиями full, train, test.\n",
    "\n",
    "Во всех полученных датафреймах мы обнаружили пропущенные знаачения. \n",
    "\n",
    "Пропуски в вышеуказанных наборах информациии имеются скорее всего потому, что даные значения еще неизвестны и будут измеряться позже.\n",
    "\n",
    "Далее нами рассчитана эффективность обогащения чернового концентрата rougher.output.recovery из обучающей выборки, при этом предварительно мы удалили пропуски из столбцов с пропусками.\n",
    "\n",
    "Получив значение абсолютной средней ошибки = 1.0512313043960013e-14, нами сделан вывод, что значение MAE имеет очень малое отклонение, поэтому расчетное значение rougher.output.recovery совпадает со значением признака.\n",
    "\n",
    "Далее мы удалили пропуски в обучающей и тестовой выборке.\n",
    "\n",
    "Мы обнаружили, что в тестовой выборке отсуствуют столбцы этапов rougher.output, rougher.calculation, final.output, primary_cleaner.output и secondary_cleaner.output. Нами сделан вывод, что эти данные будут получены по результатам технологического процесса, поэтому эти признаки мы отнесли к онлайн метрикам. Остальные признаки исторически известны, соответственно их мы отнесли к оффлайн метрикам.\n",
    "\n",
    "Также мы выделили признаки из тестовой выборки, по которым будет обучаться модель. Мы обозначили, что признак date не несет смысла для обучающей модели, а также, что для предсказания rougher.output.recovery будут использоватся данные из столюцов этапа rougher, а Для вычисления final.output.recovery будут использованы все признаки из тестовой выборки.\n",
    "\n",
    "Далее мы визуально рассмотрели ключевые признаки в обучающей выборке и изучили нулевые значения в столбце rougher.output.recovery.\n",
    "\n",
    "Неподходящие данные были удалены. \n",
    "\n",
    "Данные подготовлены к дальнейшему анализу."
   ]
  },
  {
   "cell_type": "markdown",
   "metadata": {},
   "source": [
    "<a id=\"Analysis\"></a>\n",
    "# 2. Анализ данных"
   ]
  },
  {
   "cell_type": "markdown",
   "metadata": {},
   "source": [
    "На данном этапе посмотрим, как меняется концентрация металлов (Au, Ag, Pb) на различных этапах очистки, сравним распределения размеров гранул сырья на обучающей и тестовой выборках. Также исследуем суммарную концентрацию всех веществ на разных стадиях: в сырье, в черновом и финальном концентратах. Опишем выводы и удалим аномалии."
   ]
  },
  {
   "cell_type": "markdown",
   "metadata": {},
   "source": [
    "Рассмотрим концентрацию веществ на каждом этапе."
   ]
  },
  {
   "cell_type": "code",
   "execution_count": 24,
   "metadata": {
    "scrolled": false
   },
   "outputs": [
    {
     "data": {
      "image/png": "[encoded data removed]",
      "text/plain": [
       "<Figure size 864x648 with 1 Axes>"
      ]
     },
     "metadata": {
      "needs_background": "light"
     },
     "output_type": "display_data"
    }
   ],
   "source": [
    "plt.figure(figsize=[12,9])\n",
    "\n",
    "plt.hist(train['final.output.concentrate_au'], bins=100, label = 'final.output', alpha=.5)\n",
    "plt.hist(train['primary_cleaner.output.concentrate_au'], bins=100, label = 'primary_cleaner.output', alpha=.5)\n",
    "plt.hist(train['rougher.output.concentrate_au'], bins=100, label = 'rougher.output', alpha=.5)\n",
    "\n",
    "plt.xlim([0, 55])\n",
    "plt.ylim([0, 1000])\n",
    "\n",
    "plt.xlabel(\"Концентрация золота на выходе этапов\")\n",
    "plt.ylabel(\"Количество результатов\")\n",
    "\n",
    "plt.legend(loc='upper left', fontsize='x-large')\n",
    "\n",
    "plt.title(\"График распределения концентрации золота\")\n",
    "plt.show()"
   ]
  },
  {
   "cell_type": "markdown",
   "metadata": {},
   "source": [
    "Мы видим, что концентрация золота повышается с каждым этапом. Целью флотации и очисток является увеличеие концентрации золота."
   ]
  },
  {
   "cell_type": "code",
   "execution_count": 25,
   "metadata": {},
   "outputs": [
    {
     "data": {
      "image/png": "[encoded data removed]",
      "text/plain": [
       "<Figure size 864x648 with 1 Axes>"
      ]
     },
     "metadata": {
      "needs_background": "light"
     },
     "output_type": "display_data"
    }
   ],
   "source": [
    "plt.figure(figsize=[12,9])\n",
    "\n",
    "plt.hist(train['final.output.concentrate_ag'], bins=100, label = 'final.output', alpha=.5)\n",
    "plt.hist(train['primary_cleaner.output.concentrate_ag'], bins=100, label = 'primary_cleaner.output', alpha=.5)\n",
    "plt.hist(train['rougher.output.concentrate_ag'], bins=100, label = 'rougher.output', alpha=.5)\n",
    "\n",
    "plt.xlim([0, 25])\n",
    "plt.ylim([0, 600])\n",
    "\n",
    "plt.xlabel(\"Концентрация серебра на выходе этапов\")\n",
    "plt.ylabel(\"Количество результатов\")\n",
    "\n",
    "plt.legend(loc='upper left', fontsize='x-large')\n",
    "\n",
    "plt.title(\"График распределения концентрации серебра\")\n",
    "plt.show()"
   ]
  },
  {
   "cell_type": "markdown",
   "metadata": {},
   "source": [
    "Конецентрация серебра понижается с каждым шагом очистки. Вместе с тем,  так как основным благородным металлом в нашем исследовании является золото, то остальные металлы и соединения должны быть отфильтрованы."
   ]
  },
  {
   "cell_type": "code",
   "execution_count": 26,
   "metadata": {},
   "outputs": [
    {
     "data": {
      "image/png": "[encoded data removed]",
      "text/plain": [
       "<Figure size 864x648 with 1 Axes>"
      ]
     },
     "metadata": {
      "needs_background": "light"
     },
     "output_type": "display_data"
    }
   ],
   "source": [
    "plt.figure(figsize=[12,9])\n",
    "\n",
    "plt.hist(train['final.output.concentrate_pb'], bins=100, label = 'final.output', alpha=.5)\n",
    "plt.hist(train['primary_cleaner.output.concentrate_pb'], bins=100, label = 'primary_cleaner.output', alpha=.5)\n",
    "plt.hist(train['rougher.output.concentrate_pb'], bins=100, label = 'rougher.output', alpha=.5)\n",
    "\n",
    "plt.xlim([0, 20])\n",
    "plt.ylim([0, 600])\n",
    "\n",
    "plt.xlabel(\"Концентрация свинца на выходе этапов\")\n",
    "plt.ylabel(\"Количество результатов\")\n",
    "\n",
    "plt.legend(loc='upper left', fontsize='x-large')\n",
    "\n",
    "plt.title(\"График распределения концентрации свинца\")\n",
    "plt.show()"
   ]
  },
  {
   "cell_type": "markdown",
   "metadata": {},
   "source": [
    "Концентрация свинца повышается с этапа rougher до primary_cleaner и потом усредняется. Возможно это связано с химическим процесами очистки золота. Так, при использовании азотнокислого выщелачивания в концентрате образуется много сульфата свинца. Повышение концентрации свинца в целом происходит не только из-за этого процесса, но из-за очистки других составляющих из золотоносной руды."
   ]
  },
  {
   "cell_type": "markdown",
   "metadata": {},
   "source": [
    "Изучим размеры сырья на этапах обработки."
   ]
  },
  {
   "cell_type": "code",
   "execution_count": 27,
   "metadata": {},
   "outputs": [
    {
     "data": {
      "image/png": "[encoded data removed]",
      "text/plain": [
       "<Figure size 864x648 with 1 Axes>"
      ]
     },
     "metadata": {
      "needs_background": "light"
     },
     "output_type": "display_data"
    }
   ],
   "source": [
    "plt.figure(figsize=[12,9])\n",
    "\n",
    "plt.hist(train['rougher.input.feed_size'], bins=200, label = 'Train rougher.input.feed_size', alpha=.5)\n",
    "plt.hist(test['rougher.input.feed_size'], bins=200, label = 'Test rougher.input.feed_size', alpha=.5)\n",
    "\n",
    "plt.xlim([0, 500])\n",
    "plt.ylim([0, 1300])\n",
    "\n",
    "plt.xlabel(\"Размер гранул сырья\")\n",
    "plt.ylabel(\"Количество результатов\")\n",
    "\n",
    "plt.legend(loc='upper left', fontsize='x-large')\n",
    "\n",
    "plt.title(\"График распределения гранул сырья перед флотацией\")\n",
    "plt.show()"
   ]
  },
  {
   "cell_type": "markdown",
   "metadata": {},
   "source": [
    "Распределение гранул до флотации похоже на нормальное со смещением влево как в обучающей, так и в тестовой выбрке. Существует много выбросов после размера гранул 100."
   ]
  },
  {
   "cell_type": "code",
   "execution_count": 28,
   "metadata": {},
   "outputs": [
    {
     "data": {
      "image/png": "[encoded data removed]",
      "text/plain": [
       "<Figure size 864x648 with 1 Axes>"
      ]
     },
     "metadata": {
      "needs_background": "light"
     },
     "output_type": "display_data"
    }
   ],
   "source": [
    "plt.figure(figsize=[12,9])\n",
    "\n",
    "plt.hist(train['primary_cleaner.input.feed_size'], bins=100, label = 'Train primary_cleaner.input.feed_size', alpha=.5)\n",
    "plt.hist(test['primary_cleaner.input.feed_size'], bins=100, label = 'Test primary_cleaner.input.feed_size', alpha=.5)\n",
    "\n",
    "plt.xlim([0, 16])\n",
    "plt.ylim([0, 1000])\n",
    "\n",
    "plt.xlabel(\"Размер гранул сырья\")\n",
    "plt.ylabel(\"Количество результатов\")\n",
    "\n",
    "plt.legend(loc='upper left', fontsize='x-large')\n",
    "\n",
    "plt.title(\"График распределения гранул сырья перед первичной очисткой\")\n",
    "plt.show()\n"
   ]
  },
  {
   "cell_type": "markdown",
   "metadata": {},
   "source": [
    "Размеры гранул перед первичной очисткой обладают нормальным распределением."
   ]
  },
  {
   "cell_type": "markdown",
   "metadata": {},
   "source": [
    "Подготовим признаки с финальными концентрациями в обучающей выборке."
   ]
  },
  {
   "cell_type": "code",
   "execution_count": 25,
   "metadata": {},
   "outputs": [],
   "source": [
    "final_output_concentrate_sum_train = (train['final.output.concentrate_au'] + \n",
    "                                      train['final.output.concentrate_ag'] + \n",
    "                                      train['final.output.concentrate_pb'] +\n",
    "                                      train['final.output.concentrate_sol'])\n",
    "primary_cleaner_output_concentrate_sum_train = (train['primary_cleaner.output.concentrate_au'] + \n",
    "                                                train['primary_cleaner.output.concentrate_ag'] + \n",
    "                                                train['primary_cleaner.output.concentrate_pb'] +\n",
    "                                                train['primary_cleaner.output.concentrate_sol'])\n",
    "rougher_output_concentrate_sum_train = (train['rougher.output.concentrate_au'] + \n",
    "                                        train['rougher.output.concentrate_ag'] + \n",
    "                                        train['rougher.output.concentrate_pb'] +\n",
    "                                        train['rougher.output.concentrate_sol'])"
   ]
  },
  {
   "cell_type": "code",
   "execution_count": 26,
   "metadata": {
    "scrolled": true
   },
   "outputs": [
    {
     "data": {
      "image/png": "[encoded data removed]",
      "text/plain": [
       "<Figure size 864x648 with 1 Axes>"
      ]
     },
     "metadata": {
      "needs_background": "light"
     },
     "output_type": "display_data"
    }
   ],
   "source": [
    "plt.figure(figsize=[12,9])\n",
    "\n",
    "plt.hist(final_output_concentrate_sum_train, bins=100, label = 'final_output', alpha=.5)\n",
    "plt.hist(primary_cleaner_output_concentrate_sum_train, bins=100, label = 'primary_cleaner_output', alpha=.5)\n",
    "plt.hist(rougher_output_concentrate_sum_train, bins=100, label = 'rougher_output', alpha=.5)\n",
    "\n",
    "plt.xlim([0, 100])\n",
    "plt.ylim([0, 1500])\n",
    "\n",
    "plt.xlabel(\"Суммарная концентраця\")\n",
    "plt.ylabel(\"Количество результатов\")\n",
    "\n",
    "plt.legend(loc='upper left', fontsize='x-large')\n",
    "\n",
    "plt.title(\"График распределения концентраций на разных этапах очистки\")\n",
    "plt.show()\n"
   ]
  },
  {
   "cell_type": "markdown",
   "metadata": {},
   "source": [
    "По графику видно, что из аномалий много значений с нулевой суммарной концентрацией. Приблизим график."
   ]
  },
  {
   "cell_type": "code",
   "execution_count": 27,
   "metadata": {},
   "outputs": [
    {
     "data": {
      "image/png": "[encoded data removed]",
      "text/plain": [
       "<Figure size 864x648 with 1 Axes>"
      ]
     },
     "metadata": {
      "needs_background": "light"
     },
     "output_type": "display_data"
    }
   ],
   "source": [
    "plt.figure(figsize=[12,9])\n",
    "\n",
    "plt.hist(final_output_concentrate_sum_train, bins=100, label = 'final_output', alpha=.5)\n",
    "plt.hist(primary_cleaner_output_concentrate_sum_train, bins=100, label = 'primary_cleaner_output', alpha=.5)\n",
    "plt.hist(rougher_output_concentrate_sum_train, bins=100, label = 'rougher_output', alpha=.5)\n",
    "\n",
    "plt.xlim([0, 10])\n",
    "plt.ylim([0, 200])\n",
    "\n",
    "plt.xlabel(\"Суммарная концентраця\")\n",
    "plt.ylabel(\"Количество результатов\")\n",
    "\n",
    "plt.legend(loc='upper left', fontsize='x-large')\n",
    "\n",
    "plt.title(\"График распределения концентраций на разных этапах очистки\")\n",
    "plt.show()"
   ]
  },
  {
   "cell_type": "markdown",
   "metadata": {},
   "source": [
    "На этапе предобрабоки были найдены строки с нулевыми значениями в primary_cleaner.output. Эти же строки показывают суммарную концентрацию, равную 0, соответственно они являются аномалией, поэтому удалим их."
   ]
  },
  {
   "cell_type": "code",
   "execution_count": 28,
   "metadata": {
    "scrolled": false
   },
   "outputs": [
    {
     "data": {
      "text/html": [
       "<div>\n",
       "<style scoped>\n",
       "    .dataframe tbody tr th:only-of-type {\n",
       "        vertical-align: middle;\n",
       "    }\n",
       "\n",
       "    .dataframe tbody tr th {\n",
       "        vertical-align: top;\n",
       "    }\n",
       "\n",
       "    .dataframe thead th {\n",
       "        text-align: right;\n",
       "    }\n",
       "</style>\n",
       "<table border=\"1\" class=\"dataframe\">\n",
       "  <thead>\n",
       "    <tr style=\"text-align: right;\">\n",
       "      <th></th>\n",
       "      <th>date</th>\n",
       "      <th>final.output.concentrate_ag</th>\n",
       "      <th>final.output.concentrate_pb</th>\n",
       "      <th>final.output.concentrate_sol</th>\n",
       "      <th>final.output.concentrate_au</th>\n",
       "      <th>final.output.recovery</th>\n",
       "      <th>final.output.tail_ag</th>\n",
       "      <th>final.output.tail_pb</th>\n",
       "      <th>final.output.tail_sol</th>\n",
       "      <th>final.output.tail_au</th>\n",
       "      <th>...</th>\n",
       "      <th>secondary_cleaner.state.floatbank4_a_air</th>\n",
       "      <th>secondary_cleaner.state.floatbank4_a_level</th>\n",
       "      <th>secondary_cleaner.state.floatbank4_b_air</th>\n",
       "      <th>secondary_cleaner.state.floatbank4_b_level</th>\n",
       "      <th>secondary_cleaner.state.floatbank5_a_air</th>\n",
       "      <th>secondary_cleaner.state.floatbank5_a_level</th>\n",
       "      <th>secondary_cleaner.state.floatbank5_b_air</th>\n",
       "      <th>secondary_cleaner.state.floatbank5_b_level</th>\n",
       "      <th>secondary_cleaner.state.floatbank6_a_air</th>\n",
       "      <th>secondary_cleaner.state.floatbank6_a_level</th>\n",
       "    </tr>\n",
       "  </thead>\n",
       "  <tbody>\n",
       "  </tbody>\n",
       "</table>\n",
       "<p>0 rows × 87 columns</p>\n",
       "</div>"
      ],
      "text/plain": [
       "Empty DataFrame\n",
       "Columns: [date, final.output.concentrate_ag, final.output.concentrate_pb, final.output.concentrate_sol, final.output.concentrate_au, final.output.recovery, final.output.tail_ag, final.output.tail_pb, final.output.tail_sol, final.output.tail_au, primary_cleaner.input.sulfate, primary_cleaner.input.depressant, primary_cleaner.input.feed_size, primary_cleaner.input.xanthate, primary_cleaner.output.concentrate_ag, primary_cleaner.output.concentrate_pb, primary_cleaner.output.concentrate_sol, primary_cleaner.output.concentrate_au, primary_cleaner.output.tail_ag, primary_cleaner.output.tail_pb, primary_cleaner.output.tail_sol, primary_cleaner.output.tail_au, primary_cleaner.state.floatbank8_a_air, primary_cleaner.state.floatbank8_a_level, primary_cleaner.state.floatbank8_b_air, primary_cleaner.state.floatbank8_b_level, primary_cleaner.state.floatbank8_c_air, primary_cleaner.state.floatbank8_c_level, primary_cleaner.state.floatbank8_d_air, primary_cleaner.state.floatbank8_d_level, rougher.calculation.sulfate_to_au_concentrate, rougher.calculation.floatbank10_sulfate_to_au_feed, rougher.calculation.floatbank11_sulfate_to_au_feed, rougher.calculation.au_pb_ratio, rougher.input.feed_ag, rougher.input.feed_pb, rougher.input.feed_rate, rougher.input.feed_size, rougher.input.feed_sol, rougher.input.feed_au, rougher.input.floatbank10_sulfate, rougher.input.floatbank10_xanthate, rougher.input.floatbank11_sulfate, rougher.input.floatbank11_xanthate, rougher.output.concentrate_ag, rougher.output.concentrate_pb, rougher.output.concentrate_sol, rougher.output.concentrate_au, rougher.output.recovery, rougher.output.tail_ag, rougher.output.tail_pb, rougher.output.tail_sol, rougher.output.tail_au, rougher.state.floatbank10_a_air, rougher.state.floatbank10_a_level, rougher.state.floatbank10_b_air, rougher.state.floatbank10_b_level, rougher.state.floatbank10_c_air, rougher.state.floatbank10_c_level, rougher.state.floatbank10_d_air, rougher.state.floatbank10_d_level, rougher.state.floatbank10_e_air, rougher.state.floatbank10_e_level, rougher.state.floatbank10_f_air, rougher.state.floatbank10_f_level, secondary_cleaner.output.tail_ag, secondary_cleaner.output.tail_pb, secondary_cleaner.output.tail_sol, secondary_cleaner.output.tail_au, secondary_cleaner.state.floatbank2_a_air, secondary_cleaner.state.floatbank2_a_level, secondary_cleaner.state.floatbank2_b_air, secondary_cleaner.state.floatbank2_b_level, secondary_cleaner.state.floatbank3_a_air, secondary_cleaner.state.floatbank3_a_level, secondary_cleaner.state.floatbank3_b_air, secondary_cleaner.state.floatbank3_b_level, secondary_cleaner.state.floatbank4_a_air, secondary_cleaner.state.floatbank4_a_level, secondary_cleaner.state.floatbank4_b_air, secondary_cleaner.state.floatbank4_b_level, secondary_cleaner.state.floatbank5_a_air, secondary_cleaner.state.floatbank5_a_level, secondary_cleaner.state.floatbank5_b_air, secondary_cleaner.state.floatbank5_b_level, secondary_cleaner.state.floatbank6_a_air, secondary_cleaner.state.floatbank6_a_level]\n",
       "Index: []\n",
       "\n",
       "[0 rows x 87 columns]"
      ]
     },
     "execution_count": 28,
     "metadata": {},
     "output_type": "execute_result"
    }
   ],
   "source": [
    "train = train.drop(train[train['primary_cleaner.output.concentrate_au'] == 0].index)\n",
    "train[train['primary_cleaner.output.concentrate_au'] == 0].head()"
   ]
  },
  {
   "cell_type": "markdown",
   "metadata": {},
   "source": [
    "## Выводы"
   ]
  },
  {
   "cell_type": "markdown",
   "metadata": {},
   "source": [
    "В ходе выполнения 2 шага мы посмотрели, как меняется концентрация металлов (Au, Ag, Pb) на различных этапах очистки, сравнили распределения размеров гранул сырья на обучающей и тестовой выборках. Также мы исследовали суммарную концентрацию всех веществ на разных стадиях: в сырье, в черновом и финальном концентратах. Описали выводы и удалили аномалии.\n",
    "\n",
    "Мы увидели, что концентрация золота повышается с каждым этапом. Целью флотации и очисток является увеличеие концентрации золота.\n",
    "\n",
    "Также нами отмечено, что конецентрация серебра понижается с каждым шагом очистки. Вместе с тем, нами сделан вывод, что так как основным благородным металлом в нашем исследовании является золото, то остальные металлы и соединения должны быть отфильтрованы.\n",
    "\n",
    "Мы увидели, что концентрация свинца повышается с этапа rougher до primary_cleaner и потом усредняется. Возможно это связано с химическим процесами очистки золота. Так, при использовании азотнокислого выщелачивания в концентрате образуется много сульфата свинца. Повышение концентрации свинца в целом происходит не только из-за этого процесса, но из-за очистки других составляющих из золотоносной руды.\n",
    "\n",
    "Нами замечено, что распределение гранул сырья до флотации похоже на нормальное со смещением влево как в обучающей, так и в тестовой выбрке. Существует много выбросов после размера гранул 100.\n",
    "\n",
    "Размеры гранул перед первичной очисткой обладают нормальным распределением.\n",
    "\n",
    "На этапе предобрабоки нами были найдены строки с нулевыми значениями в primary_cleaner.output. Эти же строки показали суммарную концентрацию, равную 0, соответственно они являются аномалией, поэтому мы их удалили."
   ]
  },
  {
   "cell_type": "markdown",
   "metadata": {},
   "source": [
    "<a id=\"Model\"></a>\n",
    "# 3. Модель"
   ]
  },
  {
   "cell_type": "markdown",
   "metadata": {},
   "source": [
    "Создадим разделение признаков для предсказания rougher.output.recovery и final.output.recovery."
   ]
  },
  {
   "cell_type": "code",
   "execution_count": 29,
   "metadata": {},
   "outputs": [
    {
     "name": "stdout",
     "output_type": "stream",
     "text": [
      "{'rougher.output.concentrate_pb', 'rougher.calculation.sulfate_to_au_concentrate', 'final.output.concentrate_sol', 'rougher.output.concentrate_au', 'rougher.output.concentrate_ag', 'secondary_cleaner.output.tail_sol', 'primary_cleaner.output.concentrate_pb', 'rougher.output.recovery', 'date', 'final.output.concentrate_pb', 'primary_cleaner.output.tail_pb', 'secondary_cleaner.output.tail_ag', 'rougher.output.tail_au', 'rougher.output.tail_pb', 'primary_cleaner.output.concentrate_au', 'primary_cleaner.output.concentrate_ag', 'primary_cleaner.output.tail_sol', 'final.output.tail_ag', 'rougher.output.tail_ag', 'rougher.calculation.floatbank10_sulfate_to_au_feed', 'final.output.tail_pb', 'final.output.recovery', 'primary_cleaner.output.tail_ag', 'final.output.concentrate_au', 'final.output.tail_sol', 'primary_cleaner.output.concentrate_sol', 'rougher.output.tail_sol', 'rougher.calculation.au_pb_ratio', 'final.output.concentrate_ag', 'primary_cleaner.output.tail_au', 'secondary_cleaner.output.tail_au', 'rougher.output.concentrate_sol', 'secondary_cleaner.output.tail_pb', 'final.output.tail_au', 'rougher.calculation.floatbank11_sulfate_to_au_feed'}\n",
      "\n",
      "Index(['primary_cleaner.input.sulfate', 'primary_cleaner.input.depressant',\n",
      "       'primary_cleaner.input.feed_size', 'primary_cleaner.input.xanthate',\n",
      "       'primary_cleaner.state.floatbank8_a_air',\n",
      "       'primary_cleaner.state.floatbank8_a_level',\n",
      "       'primary_cleaner.state.floatbank8_b_air',\n",
      "       'primary_cleaner.state.floatbank8_b_level',\n",
      "       'primary_cleaner.state.floatbank8_c_air',\n",
      "       'primary_cleaner.state.floatbank8_c_level',\n",
      "       'primary_cleaner.state.floatbank8_d_air',\n",
      "       'primary_cleaner.state.floatbank8_d_level', 'rougher.input.feed_ag',\n",
      "       'rougher.input.feed_pb', 'rougher.input.feed_rate',\n",
      "       'rougher.input.feed_size', 'rougher.input.feed_sol',\n",
      "       'rougher.input.feed_au', 'rougher.input.floatbank10_sulfate',\n",
      "       'rougher.input.floatbank10_xanthate',\n",
      "       'rougher.input.floatbank11_sulfate',\n",
      "       'rougher.input.floatbank11_xanthate', 'rougher.state.floatbank10_a_air',\n",
      "       'rougher.state.floatbank10_a_level', 'rougher.state.floatbank10_b_air',\n",
      "       'rougher.state.floatbank10_b_level', 'rougher.state.floatbank10_c_air',\n",
      "       'rougher.state.floatbank10_c_level', 'rougher.state.floatbank10_d_air',\n",
      "       'rougher.state.floatbank10_d_level', 'rougher.state.floatbank10_e_air',\n",
      "       'rougher.state.floatbank10_e_level', 'rougher.state.floatbank10_f_air',\n",
      "       'rougher.state.floatbank10_f_level',\n",
      "       'secondary_cleaner.state.floatbank2_a_air',\n",
      "       'secondary_cleaner.state.floatbank2_a_level',\n",
      "       'secondary_cleaner.state.floatbank2_b_air',\n",
      "       'secondary_cleaner.state.floatbank2_b_level',\n",
      "       'secondary_cleaner.state.floatbank3_a_air',\n",
      "       'secondary_cleaner.state.floatbank3_a_level',\n",
      "       'secondary_cleaner.state.floatbank3_b_air',\n",
      "       'secondary_cleaner.state.floatbank3_b_level',\n",
      "       'secondary_cleaner.state.floatbank4_a_air',\n",
      "       'secondary_cleaner.state.floatbank4_a_level',\n",
      "       'secondary_cleaner.state.floatbank4_b_air',\n",
      "       'secondary_cleaner.state.floatbank4_b_level',\n",
      "       'secondary_cleaner.state.floatbank5_a_air',\n",
      "       'secondary_cleaner.state.floatbank5_a_level',\n",
      "       'secondary_cleaner.state.floatbank5_b_air',\n",
      "       'secondary_cleaner.state.floatbank5_b_level',\n",
      "       'secondary_cleaner.state.floatbank6_a_air',\n",
      "       'secondary_cleaner.state.floatbank6_a_level'],\n",
      "      dtype='object')\n",
      "set()\n",
      "{'secondary_cleaner.state.floatbank6_a_level', 'secondary_cleaner.state.floatbank5_b_air', 'secondary_cleaner.state.floatbank4_b_air', 'primary_cleaner.state.floatbank8_c_level', 'secondary_cleaner.state.floatbank2_a_level', 'secondary_cleaner.state.floatbank5_a_level', 'secondary_cleaner.state.floatbank5_b_level', 'secondary_cleaner.state.floatbank2_b_air', 'secondary_cleaner.state.floatbank3_a_air', 'primary_cleaner.input.depressant', 'primary_cleaner.state.floatbank8_d_air', 'primary_cleaner.input.xanthate', 'primary_cleaner.state.floatbank8_d_level', 'primary_cleaner.input.feed_size', 'primary_cleaner.state.floatbank8_c_air', 'secondary_cleaner.state.floatbank4_b_level', 'primary_cleaner.state.floatbank8_a_level', 'secondary_cleaner.state.floatbank5_a_air', 'secondary_cleaner.state.floatbank6_a_air', 'secondary_cleaner.state.floatbank2_b_level', 'secondary_cleaner.state.floatbank3_b_air', 'secondary_cleaner.state.floatbank3_a_level', 'secondary_cleaner.state.floatbank2_a_air', 'secondary_cleaner.state.floatbank4_a_level', 'primary_cleaner.state.floatbank8_b_air', 'primary_cleaner.input.sulfate', 'secondary_cleaner.state.floatbank4_a_air', 'secondary_cleaner.state.floatbank3_b_level', 'primary_cleaner.state.floatbank8_b_level', 'primary_cleaner.state.floatbank8_a_air'}\n",
      "\n",
      "Index(['rougher.input.feed_ag', 'rougher.input.feed_pb',\n",
      "       'rougher.input.feed_rate', 'rougher.input.feed_size',\n",
      "       'rougher.input.feed_sol', 'rougher.input.feed_au',\n",
      "       'rougher.input.floatbank10_sulfate',\n",
      "       'rougher.input.floatbank10_xanthate',\n",
      "       'rougher.input.floatbank11_sulfate',\n",
      "       'rougher.input.floatbank11_xanthate', 'rougher.state.floatbank10_a_air',\n",
      "       'rougher.state.floatbank10_a_level', 'rougher.state.floatbank10_b_air',\n",
      "       'rougher.state.floatbank10_b_level', 'rougher.state.floatbank10_c_air',\n",
      "       'rougher.state.floatbank10_c_level', 'rougher.state.floatbank10_d_air',\n",
      "       'rougher.state.floatbank10_d_level', 'rougher.state.floatbank10_e_air',\n",
      "       'rougher.state.floatbank10_e_level', 'rougher.state.floatbank10_f_air',\n",
      "       'rougher.state.floatbank10_f_level'],\n",
      "      dtype='object')\n"
     ]
    }
   ],
   "source": [
    "# Подготовка признаков для final.output.recovery\n",
    "columns_to_delete = set(train.columns) - final_features_columns\n",
    "print(columns_to_delete)\n",
    "train_features_final = train.drop(columns_to_delete, axis=1)\n",
    "print()\n",
    "print(train_features_final.columns)\n",
    "# Проверка вхождения всех столбцов из features в столбцах тестовой выборки\n",
    "print(set(train_features_final.columns) - set(test.columns))\n",
    "\n",
    "# Подготовка признаков для rougher.output.recovery\n",
    "columns_to_delete = set(train_features_final.columns) - rougher_features_columns\n",
    "print(columns_to_delete)\n",
    "train_features_rougher = train_features_final.drop(columns_to_delete, axis=1)\n",
    "print()\n",
    "print(train_features_rougher.columns)"
   ]
  },
  {
   "cell_type": "markdown",
   "metadata": {},
   "source": [
    "Подготовим целевой признак."
   ]
  },
  {
   "cell_type": "code",
   "execution_count": 30,
   "metadata": {},
   "outputs": [],
   "source": [
    "train_target_final = train['final.output.recovery']\n",
    "train_target_rougher = train['rougher.output.recovery']"
   ]
  },
  {
   "cell_type": "markdown",
   "metadata": {},
   "source": [
    "Подготовим признаки тестовой выборки."
   ]
  },
  {
   "cell_type": "code",
   "execution_count": 31,
   "metadata": {},
   "outputs": [
    {
     "data": {
      "text/plain": [
       "Index(['primary_cleaner.input.sulfate', 'primary_cleaner.input.depressant',\n",
       "       'primary_cleaner.input.feed_size', 'primary_cleaner.input.xanthate',\n",
       "       'primary_cleaner.state.floatbank8_a_air',\n",
       "       'primary_cleaner.state.floatbank8_a_level',\n",
       "       'primary_cleaner.state.floatbank8_b_air',\n",
       "       'primary_cleaner.state.floatbank8_b_level',\n",
       "       'primary_cleaner.state.floatbank8_c_air',\n",
       "       'primary_cleaner.state.floatbank8_c_level',\n",
       "       'primary_cleaner.state.floatbank8_d_air',\n",
       "       'primary_cleaner.state.floatbank8_d_level', 'rougher.input.feed_ag',\n",
       "       'rougher.input.feed_pb', 'rougher.input.feed_rate',\n",
       "       'rougher.input.feed_size', 'rougher.input.feed_sol',\n",
       "       'rougher.input.feed_au', 'rougher.input.floatbank10_sulfate',\n",
       "       'rougher.input.floatbank10_xanthate',\n",
       "       'rougher.input.floatbank11_sulfate',\n",
       "       'rougher.input.floatbank11_xanthate', 'rougher.state.floatbank10_a_air',\n",
       "       'rougher.state.floatbank10_a_level', 'rougher.state.floatbank10_b_air',\n",
       "       'rougher.state.floatbank10_b_level', 'rougher.state.floatbank10_c_air',\n",
       "       'rougher.state.floatbank10_c_level', 'rougher.state.floatbank10_d_air',\n",
       "       'rougher.state.floatbank10_d_level', 'rougher.state.floatbank10_e_air',\n",
       "       'rougher.state.floatbank10_e_level', 'rougher.state.floatbank10_f_air',\n",
       "       'rougher.state.floatbank10_f_level',\n",
       "       'secondary_cleaner.state.floatbank2_a_air',\n",
       "       'secondary_cleaner.state.floatbank2_a_level',\n",
       "       'secondary_cleaner.state.floatbank2_b_air',\n",
       "       'secondary_cleaner.state.floatbank2_b_level',\n",
       "       'secondary_cleaner.state.floatbank3_a_air',\n",
       "       'secondary_cleaner.state.floatbank3_a_level',\n",
       "       'secondary_cleaner.state.floatbank3_b_air',\n",
       "       'secondary_cleaner.state.floatbank3_b_level',\n",
       "       'secondary_cleaner.state.floatbank4_a_air',\n",
       "       'secondary_cleaner.state.floatbank4_a_level',\n",
       "       'secondary_cleaner.state.floatbank4_b_air',\n",
       "       'secondary_cleaner.state.floatbank4_b_level',\n",
       "       'secondary_cleaner.state.floatbank5_a_air',\n",
       "       'secondary_cleaner.state.floatbank5_a_level',\n",
       "       'secondary_cleaner.state.floatbank5_b_air',\n",
       "       'secondary_cleaner.state.floatbank5_b_level',\n",
       "       'secondary_cleaner.state.floatbank6_a_air',\n",
       "       'secondary_cleaner.state.floatbank6_a_level'],\n",
       "      dtype='object')"
      ]
     },
     "execution_count": 31,
     "metadata": {},
     "output_type": "execute_result"
    }
   ],
   "source": [
    "test_features = test.drop('date', axis=1)\n",
    "test_features.columns"
   ]
  },
  {
   "cell_type": "code",
   "execution_count": 32,
   "metadata": {},
   "outputs": [
    {
     "name": "stdout",
     "output_type": "stream",
     "text": [
      "{'secondary_cleaner.state.floatbank6_a_level', 'secondary_cleaner.state.floatbank5_b_air', 'secondary_cleaner.state.floatbank4_b_air', 'primary_cleaner.state.floatbank8_c_level', 'secondary_cleaner.state.floatbank2_a_level', 'secondary_cleaner.state.floatbank5_a_level', 'secondary_cleaner.state.floatbank5_b_level', 'secondary_cleaner.state.floatbank2_b_air', 'secondary_cleaner.state.floatbank3_a_air', 'primary_cleaner.input.depressant', 'primary_cleaner.state.floatbank8_d_air', 'primary_cleaner.input.xanthate', 'primary_cleaner.state.floatbank8_d_level', 'primary_cleaner.input.feed_size', 'primary_cleaner.state.floatbank8_c_air', 'secondary_cleaner.state.floatbank4_b_level', 'primary_cleaner.state.floatbank8_a_level', 'secondary_cleaner.state.floatbank5_a_air', 'secondary_cleaner.state.floatbank6_a_air', 'secondary_cleaner.state.floatbank2_b_level', 'secondary_cleaner.state.floatbank3_b_air', 'secondary_cleaner.state.floatbank3_a_level', 'secondary_cleaner.state.floatbank2_a_air', 'secondary_cleaner.state.floatbank4_a_level', 'primary_cleaner.state.floatbank8_b_air', 'primary_cleaner.input.sulfate', 'secondary_cleaner.state.floatbank4_a_air', 'secondary_cleaner.state.floatbank3_b_level', 'primary_cleaner.state.floatbank8_b_level', 'primary_cleaner.state.floatbank8_a_air'}\n"
     ]
    }
   ],
   "source": [
    "test_features_final = test_features\n",
    "columns_to_delete = set(test_features_final.columns) - rougher_features_columns\n",
    "print(columns_to_delete)\n",
    "test_features_rougher = test_features_final.drop(columns_to_delete, axis=1)"
   ]
  },
  {
   "cell_type": "code",
   "execution_count": 34,
   "metadata": {},
   "outputs": [
    {
     "data": {
      "text/plain": [
       "((5383, 52), (10737, 52))"
      ]
     },
     "execution_count": 34,
     "metadata": {},
     "output_type": "execute_result"
    }
   ],
   "source": [
    "test_features.shape, train_features_final.shape"
   ]
  },
  {
   "cell_type": "markdown",
   "metadata": {},
   "source": [
    "Функция вычисления симметричного среднего абсолютного процентного отклонения."
   ]
  },
  {
   "cell_type": "code",
   "execution_count": 35,
   "metadata": {},
   "outputs": [],
   "source": [
    "def sMAPE_score(rougher_recovery_real, rougher_recovery_predicted, final_recovery_real, final_recovery_predicted):\n",
    "    n = rougher_recovery_real.shape[0]\n",
    "    rougher_sMAPE = ((2*abs(rougher_recovery_real - rougher_recovery_predicted)/\n",
    "                     (abs(rougher_recovery_real) + abs(rougher_recovery_predicted))).sum() * 100 / n)\n",
    "    final_sMAPE = ((2*abs(final_recovery_real - final_recovery_predicted)/\n",
    "                     (abs(final_recovery_real) + abs(final_recovery_predicted))).sum() * 100 / n)\n",
    "    return rougher_sMAPE * 0.25 + final_sMAPE * 0.75"
   ]
  },
  {
   "cell_type": "markdown",
   "metadata": {},
   "source": [
    "Перед нами стоит задача регресии. Выберем следующие модели для обучения:\n",
    "\n",
    "Линейная регрессия\n",
    "\n",
    "Полиноминальная регрессия\n",
    "\n",
    "Регрессия Ridge\n",
    "\n",
    "Регрессия дерева решений\n",
    "\n",
    "Выполним поиск лучшей модели для предсказаний."
   ]
  },
  {
   "cell_type": "code",
   "execution_count": 36,
   "metadata": {},
   "outputs": [
    {
     "name": "stdout",
     "output_type": "stream",
     "text": [
      "Mean R2 from CV of LinearRegression = -0.19455349428688645\n",
      "Mean MAE from CV of LinearRegression = -5.903842205297213\n",
      "CPU times: user 1.56 s, sys: 1.35 s, total: 2.9 s\n",
      "Wall time: 2.85 s\n"
     ]
    }
   ],
   "source": [
    "%%time\n",
    "\n",
    "regressor = LinearRegression()\n",
    "print('Mean R2 from CV of LinearRegression =', cross_val_score(regressor, \n",
    "                                                               train_features_final, \n",
    "                                                               train_target_final, cv=5).mean())\n",
    "print('Mean MAE from CV of LinearRegression =', cross_val_score(regressor, train_features_final, \n",
    "                                                                train_target_final, cv=5, \n",
    "                                                                scoring='neg_mean_absolute_error').mean())"
   ]
  },
  {
   "cell_type": "markdown",
   "metadata": {},
   "source": [
    "Для регрессоров Ridge и DecisionTreeRegressor применим метод GridSearchCV. В нем уже вложена кросс-валидация."
   ]
  },
  {
   "cell_type": "code",
   "execution_count": 39,
   "metadata": {},
   "outputs": [
    {
     "name": "stdout",
     "output_type": "stream",
     "text": [
      "# Tuning hyper-parameters for r2\n",
      "\n",
      "Best parameters set found on development set:\n",
      "\n",
      "{'alpha': 100, 'solver': 'sparse_cg'}\n",
      "\n",
      "Grid scores on development set:\n",
      "\n",
      "-0.236 (+/-0.480) for {'alpha': 0.1, 'solver': 'auto'}\n",
      "-0.235 (+/-0.480) for {'alpha': 1, 'solver': 'auto'}\n",
      "-0.235 (+/-0.484) for {'alpha': 10, 'solver': 'auto'}\n",
      "-0.224 (+/-0.497) for {'alpha': 100, 'solver': 'auto'}\n",
      "-0.236 (+/-0.480) for {'alpha': 0.1, 'solver': 'svd'}\n",
      "-0.235 (+/-0.480) for {'alpha': 1, 'solver': 'svd'}\n",
      "-0.235 (+/-0.484) for {'alpha': 10, 'solver': 'svd'}\n",
      "-0.224 (+/-0.497) for {'alpha': 100, 'solver': 'svd'}\n",
      "-0.236 (+/-0.480) for {'alpha': 0.1, 'solver': 'cholesky'}\n",
      "-0.235 (+/-0.480) for {'alpha': 1, 'solver': 'cholesky'}\n",
      "-0.235 (+/-0.484) for {'alpha': 10, 'solver': 'cholesky'}\n",
      "-0.224 (+/-0.497) for {'alpha': 100, 'solver': 'cholesky'}\n",
      "-0.470 (+/-0.716) for {'alpha': 0.1, 'solver': 'lsqr'}\n",
      "-0.470 (+/-0.716) for {'alpha': 1, 'solver': 'lsqr'}\n",
      "-0.470 (+/-0.716) for {'alpha': 10, 'solver': 'lsqr'}\n",
      "-0.470 (+/-0.716) for {'alpha': 100, 'solver': 'lsqr'}\n",
      "-0.166 (+/-0.446) for {'alpha': 0.1, 'solver': 'sparse_cg'}\n",
      "-0.152 (+/-0.413) for {'alpha': 1, 'solver': 'sparse_cg'}\n",
      "-0.138 (+/-0.416) for {'alpha': 10, 'solver': 'sparse_cg'}\n",
      "-0.113 (+/-0.438) for {'alpha': 100, 'solver': 'sparse_cg'}\n",
      "\n",
      "# Tuning hyper-parameters for neg_mean_absolute_error\n",
      "\n",
      "Best parameters set found on development set:\n",
      "\n",
      "{'alpha': 100, 'solver': 'sparse_cg'}\n",
      "\n",
      "Grid scores on development set:\n",
      "\n",
      "-6.801 (+/-2.599) for {'alpha': 0.1, 'solver': 'auto'}\n",
      "-6.801 (+/-2.601) for {'alpha': 1, 'solver': 'auto'}\n",
      "-6.800 (+/-2.620) for {'alpha': 10, 'solver': 'auto'}\n",
      "-6.758 (+/-2.685) for {'alpha': 100, 'solver': 'auto'}\n",
      "-6.801 (+/-2.599) for {'alpha': 0.1, 'solver': 'svd'}\n",
      "-6.801 (+/-2.601) for {'alpha': 1, 'solver': 'svd'}\n",
      "-6.800 (+/-2.620) for {'alpha': 10, 'solver': 'svd'}\n",
      "-6.758 (+/-2.685) for {'alpha': 100, 'solver': 'svd'}\n",
      "-6.801 (+/-2.599) for {'alpha': 0.1, 'solver': 'cholesky'}\n",
      "-6.801 (+/-2.601) for {'alpha': 1, 'solver': 'cholesky'}\n",
      "-6.800 (+/-2.620) for {'alpha': 10, 'solver': 'cholesky'}\n",
      "-6.758 (+/-2.685) for {'alpha': 100, 'solver': 'cholesky'}\n",
      "-7.417 (+/-3.061) for {'alpha': 0.1, 'solver': 'lsqr'}\n",
      "-7.417 (+/-3.061) for {'alpha': 1, 'solver': 'lsqr'}\n",
      "-7.417 (+/-3.061) for {'alpha': 10, 'solver': 'lsqr'}\n",
      "-7.416 (+/-3.062) for {'alpha': 100, 'solver': 'lsqr'}\n",
      "-6.496 (+/-2.470) for {'alpha': 0.1, 'solver': 'sparse_cg'}\n",
      "-6.447 (+/-2.347) for {'alpha': 1, 'solver': 'sparse_cg'}\n",
      "-6.406 (+/-2.378) for {'alpha': 10, 'solver': 'sparse_cg'}\n",
      "-6.322 (+/-2.480) for {'alpha': 100, 'solver': 'sparse_cg'}\n",
      "\n",
      "CPU times: user 16.6 s, sys: 18.3 s, total: 34.9 s\n",
      "Wall time: 35.1 s\n"
     ]
    }
   ],
   "source": [
    "%%time\n",
    "\n",
    "regressor = Ridge()\n",
    "hyperparams = [{'alpha':[0.1, 1, 10, 100], 'solver':['auto']},\n",
    "                 {'alpha':[0.1, 1, 10, 100], 'solver':['svd']}, \n",
    "                 {'alpha':[0.1, 1, 10, 100], 'solver':['cholesky']},\n",
    "                 {'alpha':[0.1, 1, 10, 100], 'solver':['lsqr']}, \n",
    "                 {'alpha':[0.1, 1, 10, 100], 'solver':['sparse_cg']}]\n",
    "\n",
    "scores = ['r2', 'neg_mean_absolute_error']\n",
    "\n",
    "for score in scores:\n",
    "    print('# Tuning hyper-parameters for %s' % score)\n",
    "    print()\n",
    "    clf = GridSearchCV(regressor, hyperparams, scoring=score)\n",
    "    clf.fit(train_features_final, train_target_final)\n",
    "    print(\"Best parameters set found on development set:\")\n",
    "    print()\n",
    "    print(clf.best_params_)\n",
    "    print()\n",
    "    print(\"Grid scores on development set:\")\n",
    "    print()\n",
    "    means = clf.cv_results_['mean_test_score']\n",
    "    stds = clf.cv_results_['std_test_score']\n",
    "    for mean, std, params in zip(means, stds, clf.cv_results_['params']):\n",
    "        print(\"%0.3f (+/-%0.03f) for %r\"% (mean, std * 2, params))\n",
    "    print()"
   ]
  },
  {
   "cell_type": "code",
   "execution_count": 40,
   "metadata": {},
   "outputs": [
    {
     "name": "stdout",
     "output_type": "stream",
     "text": [
      "# Tuning hyper-parameters\n",
      "\n",
      "Best parameters set found on development set:\n",
      "\n",
      "{'criterion': 'mae', 'max_depth': 2, 'random_state': 12345}\n",
      "\n",
      "Grid scores on development set:\n",
      "\n",
      "-0.134 (+/-0.286) for {'criterion': 'mse', 'max_depth': 2, 'random_state': 12345}\n",
      "-0.055 (+/-0.188) for {'criterion': 'mse', 'max_depth': 4, 'random_state': 12345}\n",
      "-0.276 (+/-0.141) for {'criterion': 'mse', 'max_depth': 6, 'random_state': 12345}\n",
      "-0.813 (+/-1.273) for {'criterion': 'mse', 'max_depth': 8, 'random_state': 12345}\n",
      "-0.815 (+/-0.528) for {'criterion': 'mse', 'max_depth': 10, 'random_state': 12345}\n",
      "-1.011 (+/-0.339) for {'criterion': 'mse', 'max_depth': 12, 'random_state': 12345}\n",
      "-1.014 (+/-0.344) for {'criterion': 'mse', 'max_depth': 14, 'random_state': 12345}\n",
      "-1.259 (+/-0.760) for {'criterion': 'mse', 'max_depth': 16, 'random_state': 12345}\n",
      "-1.342 (+/-0.523) for {'criterion': 'mse', 'max_depth': 18, 'random_state': 12345}\n",
      "-1.595 (+/-2.066) for {'criterion': 'mse', 'max_depth': 20, 'random_state': 12345}\n",
      "-0.036 (+/-0.175) for {'criterion': 'mae', 'max_depth': 2, 'random_state': 12345}\n",
      "-0.483 (+/-1.273) for {'criterion': 'mae', 'max_depth': 4, 'random_state': 12345}\n",
      "-1.654 (+/-2.507) for {'criterion': 'mae', 'max_depth': 6, 'random_state': 12345}\n",
      "-2.043 (+/-2.359) for {'criterion': 'mae', 'max_depth': 8, 'random_state': 12345}\n",
      "-2.462 (+/-2.052) for {'criterion': 'mae', 'max_depth': 10, 'random_state': 12345}\n",
      "-3.379 (+/-2.224) for {'criterion': 'mae', 'max_depth': 12, 'random_state': 12345}\n",
      "-2.204 (+/-2.533) for {'criterion': 'mae', 'max_depth': 14, 'random_state': 12345}\n",
      "-2.714 (+/-1.917) for {'criterion': 'mae', 'max_depth': 16, 'random_state': 12345}\n",
      "-2.480 (+/-2.627) for {'criterion': 'mae', 'max_depth': 18, 'random_state': 12345}\n",
      "-2.983 (+/-1.531) for {'criterion': 'mae', 'max_depth': 20, 'random_state': 12345}\n",
      "\n",
      "CPU times: user 10min 59s, sys: 0 ns, total: 10min 59s\n",
      "Wall time: 11min 4s\n"
     ]
    }
   ],
   "source": [
    "%%time\n",
    "\n",
    "regressor = DecisionTreeRegressor() \n",
    "max_depth_list = [x for x in range(2, 21, 2)]\n",
    "hyperparams = [{'criterion':['mse'], 'max_depth':max_depth_list, 'random_state':[12345]},\n",
    "               {'criterion':['mae'], 'max_depth':max_depth_list, 'random_state':[12345]}]\n",
    "\n",
    "print('# Tuning hyper-parameters')\n",
    "print()\n",
    "clf = GridSearchCV(regressor, hyperparams)\n",
    "clf.fit(train_features_final, train_target_final)\n",
    "print(\"Best parameters set found on development set:\")\n",
    "print()\n",
    "print(clf.best_params_)\n",
    "print()\n",
    "print(\"Grid scores on development set:\")\n",
    "print()\n",
    "means = clf.cv_results_['mean_test_score']\n",
    "stds = clf.cv_results_['std_test_score']\n",
    "for mean, std, params in zip(means, stds, clf.cv_results_['params']):\n",
    "    print(\"%0.3f (+/-%0.03f) for %r\"% (mean, std * 2, params))\n",
    "print()"
   ]
  },
  {
   "cell_type": "markdown",
   "metadata": {},
   "source": [
    "Проверим лучшие модели по метрикам на созданной метрике sMAPE. Проверим реальные данные."
   ]
  },
  {
   "cell_type": "code",
   "execution_count": 41,
   "metadata": {},
   "outputs": [
    {
     "name": "stdout",
     "output_type": "stream",
     "text": [
      "Процент пропусков в общей выборке 0.14397176295745867\n",
      "Процент пропусков в общей выборке 0.10477428942968604\n"
     ]
    }
   ],
   "source": [
    "rougher_recovery_real = full.loc[test_features_rougher.index,'rougher.output.recovery']\n",
    "final_recovery_real = full.loc[test_features_final.index,'final.output.recovery']\n",
    "print('Процент пропусков в общей выборке' ,rougher_recovery_real.isna().mean())\n",
    "print('Процент пропусков в общей выборке',final_recovery_real.isna().mean())"
   ]
  },
  {
   "cell_type": "markdown",
   "metadata": {},
   "source": [
    "В реальной таблице отсутсвуют зачения для выборки. Они будут игнорироваться при расчете sMAPE."
   ]
  },
  {
   "cell_type": "code",
   "execution_count": 42,
   "metadata": {},
   "outputs": [
    {
     "name": "stdout",
     "output_type": "stream",
     "text": [
      "sMAPE для линейной регресии 12.300567079496306\n",
      "sMAPE для полиноминальной регресии 25.250639724184683\n",
      "sMAPE для регресии Ridge 12.26722074050842\n",
      "sMAPE для DecisionTreeRegressor 12.397228650408637\n",
      "CPU times: user 59.6 s, sys: 6.3 s, total: 1min 5s\n",
      "Wall time: 1min 6s\n"
     ]
    }
   ],
   "source": [
    "%%time\n",
    "\n",
    "model = LinearRegression()\n",
    "model.fit(train_features_rougher, train_target_rougher)\n",
    "rougher_recovery_predicted = model.predict(test_features_rougher)\n",
    "model.fit(train_features_final, train_target_final)\n",
    "final_recovery_predicted = model.predict(test_features_final)\n",
    "print('sMAPE для линейной регресии',sMAPE_score(rougher_recovery_real, rougher_recovery_predicted, final_recovery_real, final_recovery_predicted))\n",
    "\n",
    "regressor = LinearRegression()\n",
    "polynomial_features = PolynomialFeatures(degree=2, include_bias=False)\n",
    "model = Pipeline([(\"polynomial_features\", polynomial_features),(\"linear_regression\", regressor)])\n",
    "model.fit(train_features_rougher, train_target_rougher)\n",
    "rougher_recovery_predicted = model.predict(test_features_rougher)\n",
    "model.fit(train_features_final, train_target_final)\n",
    "final_recovery_predicted = model.predict(test_features_final)\n",
    "print('sMAPE для полиноминальной регресии',sMAPE_score(rougher_recovery_real, rougher_recovery_predicted, final_recovery_real, final_recovery_predicted))\n",
    "\n",
    "model = Ridge(alpha=100, solver='sparse_cg')\n",
    "model.fit(train_features_rougher, train_target_rougher)\n",
    "rougher_recovery_predicted = model.predict(test_features_rougher)\n",
    "model.fit(train_features_final, train_target_final)\n",
    "final_recovery_predicted = model.predict(test_features_final)\n",
    "print('sMAPE для регресии Ridge',sMAPE_score(rougher_recovery_real, rougher_recovery_predicted, final_recovery_real, final_recovery_predicted))\n",
    "\n",
    "model = DecisionTreeRegressor(criterion='mae', max_depth=2, random_state=12345)\n",
    "model.fit(train_features_rougher, train_target_rougher)\n",
    "rougher_recovery_predicted = model.predict(test_features_rougher)\n",
    "model.fit(train_features_final, train_target_final)\n",
    "final_recovery_predicted = model.predict(test_features_final)\n",
    "print('sMAPE для DecisionTreeRegressor',sMAPE_score(rougher_recovery_real, rougher_recovery_predicted, final_recovery_real, final_recovery_predicted))"
   ]
  },
  {
   "cell_type": "markdown",
   "metadata": {},
   "source": [
    "Создадим константную модель на медианных значений. Изменим код функции для подсчета."
   ]
  },
  {
   "cell_type": "code",
   "execution_count": 43,
   "metadata": {},
   "outputs": [
    {
     "name": "stdout",
     "output_type": "stream",
     "text": [
      "sMAPE для медианной константной модели 11.437793816641223\n"
     ]
    }
   ],
   "source": [
    "median_rougher_recovery = full['rougher.output.recovery'].median()\n",
    "median_final_recovery = full['final.output.recovery'].median()\n",
    "\n",
    "n = rougher_recovery_real.shape[0]\n",
    "rougher_sMAPE = ((2*abs(rougher_recovery_real - median_rougher_recovery)/\n",
    "                     (abs(rougher_recovery_real) + abs(median_rougher_recovery))).sum() * 100 / n)\n",
    "final_sMAPE = ((2*abs(final_recovery_real - median_final_recovery)/\n",
    "                     (abs(final_recovery_real) + abs(median_final_recovery))).sum() * 100 / n)\n",
    "print('sMAPE для медианной константной модели', rougher_sMAPE * 0.25 + final_sMAPE * 0.75)"
   ]
  },
  {
   "cell_type": "markdown",
   "metadata": {},
   "source": [
    "Проведем сокращение тестовой выборки из-за пропущенных значений rougher.output.recovery и final.output.recovery в полном датафрейме. Для вычисления sMAPE длина и индексы всех серий должны быть одинаковы."
   ]
  },
  {
   "cell_type": "code",
   "execution_count": 44,
   "metadata": {},
   "outputs": [
    {
     "name": "stdout",
     "output_type": "stream",
     "text": [
      "Количество строк rougher_recovery_real = 4608\n",
      "Количество строк final_recovery_real = 4819\n",
      "Количество строк test_features_rougher = 5383\n",
      "Количество индексов с полными данными= 4554\n"
     ]
    }
   ],
   "source": [
    "rougher_recovery_real.dropna(inplace=True)\n",
    "print('Количество строк rougher_recovery_real =', rougher_recovery_real.shape[0])\n",
    "final_recovery_real.dropna(inplace=True)\n",
    "print('Количество строк final_recovery_real =', final_recovery_real.shape[0])\n",
    "print('Количество строк test_features_rougher =', test_features_rougher.shape[0])\n",
    "\n",
    "not_nan_index = set(test_features_rougher.index)\n",
    "not_nan_index = not_nan_index.intersection(set(final_recovery_real.index), set(rougher_recovery_real.index))\n",
    "print('Количество индексов с полными данными=', len(not_nan_index))"
   ]
  },
  {
   "cell_type": "markdown",
   "metadata": {},
   "source": [
    "Преобразем количество данных тестовой выбоки и рельных так, чтобы не было NaN."
   ]
  },
  {
   "cell_type": "code",
   "execution_count": 45,
   "metadata": {},
   "outputs": [
    {
     "name": "stdout",
     "output_type": "stream",
     "text": [
      "Количество строк test_features_final = 4554\n"
     ]
    }
   ],
   "source": [
    "rougher_recovery_real = full.loc[not_nan_index,'rougher.output.recovery']\n",
    "final_recovery_real = full.loc[not_nan_index,'final.output.recovery']\n",
    "test_features_rougher = test_features_rougher.loc[not_nan_index,:]\n",
    "test_features_final = test_features_final.loc[not_nan_index,:]\n",
    "print('Количество строк test_features_final =', test_features_final.shape[0])"
   ]
  },
  {
   "cell_type": "markdown",
   "metadata": {},
   "source": [
    "Повторим получение sMAPE на тех же моделях."
   ]
  },
  {
   "cell_type": "code",
   "execution_count": 46,
   "metadata": {},
   "outputs": [
    {
     "name": "stdout",
     "output_type": "stream",
     "text": [
      "sMAPE для линейной регресии 13.212153673716113\n",
      "sMAPE для полиноминальной регресии 27.988194717599818\n",
      "sMAPE для регресии Ridge 13.18546815084092\n",
      "sMAPE для DecisionTreeRegressor 13.296719085879957\n",
      "sMAPE для медианной константной модели 12.236756621839444\n",
      "CPU times: user 56.6 s, sys: 6.05 s, total: 1min 2s\n",
      "Wall time: 1min 3s\n"
     ]
    }
   ],
   "source": [
    "\n",
    "%%time\n",
    "\n",
    "model = LinearRegression()\n",
    "model.fit(train_features_rougher, train_target_rougher)\n",
    "rougher_recovery_predicted = model.predict(test_features_rougher)\n",
    "model.fit(train_features_final, train_target_final)\n",
    "final_recovery_predicted = model.predict(test_features_final)\n",
    "print('sMAPE для линейной регресии',sMAPE_score(rougher_recovery_real, rougher_recovery_predicted, final_recovery_real, final_recovery_predicted))\n",
    "\n",
    "regressor = LinearRegression()\n",
    "polynomial_features = PolynomialFeatures(degree=2, include_bias=False)\n",
    "model = Pipeline([(\"polynomial_features\", polynomial_features),(\"linear_regression\", regressor)])\n",
    "model.fit(train_features_rougher, train_target_rougher)\n",
    "rougher_recovery_predicted = model.predict(test_features_rougher)\n",
    "model.fit(train_features_final, train_target_final)\n",
    "final_recovery_predicted = model.predict(test_features_final)\n",
    "print('sMAPE для полиноминальной регресии',sMAPE_score(rougher_recovery_real, rougher_recovery_predicted, final_recovery_real, final_recovery_predicted))\n",
    "\n",
    "model = Ridge(alpha=100, solver='sparse_cg')\n",
    "model.fit(train_features_rougher, train_target_rougher)\n",
    "rougher_recovery_predicted = model.predict(test_features_rougher)\n",
    "model.fit(train_features_final, train_target_final)\n",
    "final_recovery_predicted = model.predict(test_features_final)\n",
    "print('sMAPE для регресии Ridge',sMAPE_score(rougher_recovery_real, rougher_recovery_predicted, final_recovery_real, final_recovery_predicted))\n",
    "\n",
    "model = DecisionTreeRegressor(criterion='mae', max_depth=2, random_state=12345)\n",
    "model.fit(train_features_rougher, train_target_rougher)\n",
    "rougher_recovery_predicted = model.predict(test_features_rougher)\n",
    "model.fit(train_features_final, train_target_final)\n",
    "final_recovery_predicted = model.predict(test_features_final)\n",
    "print('sMAPE для DecisionTreeRegressor',sMAPE_score(rougher_recovery_real, rougher_recovery_predicted, final_recovery_real, final_recovery_predicted)) \n",
    "\n",
    "n = rougher_recovery_real.shape[0]\n",
    "rougher_sMAPE = ((2*abs(rougher_recovery_real - median_rougher_recovery)/\n",
    "                     (abs(rougher_recovery_real) + abs(median_rougher_recovery))).sum() * 100 / n)\n",
    "final_sMAPE = ((2*abs(final_recovery_real - median_final_recovery)/\n",
    "                     (abs(final_recovery_real) + abs(median_final_recovery))).sum() * 100 / n)\n",
    "print('sMAPE для медианной константной модели', rougher_sMAPE * 0.25 + final_sMAPE * 0.75)"
   ]
  },
  {
   "cell_type": "markdown",
   "metadata": {},
   "source": [
    "Сравним модель Ridge c медианной константной по метрикам R2 и MAE. проверим показания на final_recovery_real."
   ]
  },
  {
   "cell_type": "code",
   "execution_count": 47,
   "metadata": {},
   "outputs": [
    {
     "name": "stdout",
     "output_type": "stream",
     "text": [
      "R2 Ridge model = -0.3635955874303327\n",
      "MAE Ridge model = 7.785323791563485\n",
      "\n",
      "R2 constant model = -0.16953176961687788\n",
      "MAE constant model = 6.986583173406042\n"
     ]
    }
   ],
   "source": [
    "model = Ridge(alpha=100, solver='sparse_cg')\n",
    "model.fit(train_features_final, train_target_final)\n",
    "final_recovery_predicted = model.predict(test_features_final)\n",
    "print('R2 Ridge model =', r2_score(final_recovery_real, final_recovery_predicted))\n",
    "print('MAE Ridge model =', mean_absolute_error(final_recovery_real, final_recovery_predicted))\n",
    "print()\n",
    "\n",
    "final_median_predict = pd.Series(median_final_recovery, index=not_nan_index)\n",
    "print('R2 constant model =', r2_score(final_recovery_real, final_median_predict))\n",
    "print('MAE constant model =', mean_absolute_error(final_recovery_real, final_median_predict))"
   ]
  },
  {
   "cell_type": "markdown",
   "metadata": {},
   "source": [
    "## Выводы"
   ]
  },
  {
   "cell_type": "markdown",
   "metadata": {},
   "source": [
    "В ходе выполнения 3 шага нами была написана функция для вычисления sMAPE. Каждая модель была изучена на качество с помощью методов кросс-валидации и поиска оптимальных гиперпараметров с помощью модуля GridSearchCV.\n",
    "\n",
    "Так как перед нами стояла задача регресии, то мы выберали следующие модели для обучения:\n",
    "\n",
    "Линейная регрессия\n",
    "\n",
    "Полиноминальная регрессия\n",
    "\n",
    "Регрессия Ridge\n",
    "\n",
    "Регрессия дерева решений\n",
    "\n",
    "Была отобрана лучшая модель - Ridge. Ее значение sMAPE самое низкое.\n",
    "\n",
    "Регрессор Ridge показал себя лучше обычной линейной регресии. sMAPE показал 12.27 до того как убрать пропущенные значения, и 13.19 после. Если сравнивать с константной моделью, значение проигрывает на 0.83 и 0.95 соответсвенно. Другие метрики тоже говорят о том, что константная модель адекватнее выбранной\n",
    "\n",
    "После удаления значений NaN модель изменила свои значения. В  общей выборке отсутвует 14% и 10% данных по предсказаниям, возможно это повлияло на качество модели."
   ]
  },
  {
   "cell_type": "markdown",
   "metadata": {},
   "source": [
    "<a id=\"Conclusion\"></a>\n",
    "# 4. Общий вывод"
   ]
  },
  {
   "cell_type": "markdown",
   "metadata": {},
   "source": [
    "* В ходе выполнения первого шага мы сделали нижеледующее.\n",
    "\n",
    "Нами открыты и изучены файлы, сохранены в соответствующих датафреймах под назваиями full, train, test.\n",
    "\n",
    "Во всех полученных датафреймах мы обнаружили пропущенные знаачения.\n",
    "\n",
    "Пропуски в вышеуказанных наборах информациии имеются скорее всего потому, что даные значения еще неизвестны и будут измеряться позже.\n",
    "\n",
    "Далее нами рассчитана эффективность обогащения чернового концентрата rougher.output.recovery из обучающей выборки, при этом предварительно мы удалили пропуски из столбцов с пропусками.\n",
    "\n",
    "Получив значение абсолютной средней ошибки = 1.0512313043960013e-14, нами сделан вывод, что значение MAE имеет очень малое отклонение, поэтому расчетное значение rougher.output.recovery совпадает со значением признака.\n",
    "\n",
    "Далее мы удалили пропуски в обучающей и тестовой выборке.\n",
    "\n",
    "Мы обнаружили, что в тестовой выборке отсуствуют столбцы этапов rougher.output, rougher.calculation, final.output, primary_cleaner.output и secondary_cleaner.output. Нами сделан вывод, что эти данные будут получены по результатам технологического процесса, поэтому эти признаки мы отнесли к онлайн метрикам. Остальные признаки исторически известны, соответственно их мы отнесли к оффлайн метрикам.\n",
    "\n",
    "Также мы выделили признаки из тестовой выборки, по которым будет обучаться модель. Мы обозначили, что признак date не несет смысла для обучающей модели, а также, что для предсказания rougher.output.recovery будут использоватся данные из столюцов этапа rougher, а Для вычисления final.output.recovery будут использованы все признаки из тестовой выборки.\n",
    "\n",
    "Далее мы визуально рассмотрели ключевые признаки в обучающей выборке и изучили нулевые значения в столбце rougher.output.recovery.\n",
    "\n",
    "Неподходящие данные были удалены.\n",
    "\n",
    "Данные подготовлены к дальнейшему анализу.\n",
    "\n",
    "* В ходе выполнения 2 шага мы посмотрели, как меняется концентрация металлов (Au, Ag, Pb) на различных этапах очистки, сравнили распределения размеров гранул сырья на обучающей и тестовой выборках. Также мы исследовали суммарную концентрацию всех веществ на разных стадиях: в сырье, в черновом и финальном концентратах. Описали выводы и удалили аномалии.\n",
    "\n",
    "Мы увидели, что концентрация золота повышается с каждым этапом. Целью флотации и очисток является увеличеие концентрации золота.\n",
    "\n",
    "Также нами отмечено, что конецентрация серебра понижается с каждым шагом очистки. Вместе с тем, нами сделан вывод, что так как основным благородным металлом в нашем исследовании является золото, то остальные металлы и соединения должны быть отфильтрованы.\n",
    "\n",
    "Мы увидели, что концентрация свинца повышается с этапа rougher до primary_cleaner и потом усредняется. Возможно это связано с химическим процесами очистки золота. Так, при использовании азотнокислого выщелачивания в концентрате образуется много сульфата свинца. Повышение концентрации свинца в целом происходит не только из-за этого процесса, но из-за очистки других составляющих из золотоносной руды.\n",
    "\n",
    "Нами замечено, что распределение гранул сырья до флотации похоже на нормальное со смещением влево как в обучающей, так и в тестовой выбрке. Существует много выбросов после размера гранул 100.\n",
    "\n",
    "Размеры гранул перед первичной очисткой обладают нормальным распределением.\n",
    "\n",
    "На этапе предобрабоки нами были найдены строки с нулевыми значениями в primary_cleaner.output. Эти же строки показали суммарную концентрацию, равную 0, соответственно они являются аномалией, поэтому мы их удалили.\n",
    "\n",
    "* В ходе выполнения 3 шага нами была написана функция для вычисления sMAPE. Каждая модель была изучена на качество с помощью методов кросс-валидации и поиска оптимальных гиперпараметров с помощью модуля GridSearchCV.\n",
    "\n",
    "Так как перед нами стояла задача регресии, то мы выберали следующие модели для обучения:\n",
    "\n",
    "Линейная регрессия\n",
    "\n",
    "Полиноминальная регрессия\n",
    "\n",
    "Регрессия Ridge\n",
    "\n",
    "Регрессия дерева решений\n",
    "\n",
    "Была отобрана лучшая модель - Ridge. Ее значение sMAPE самое низкое.\n",
    "\n",
    "Регрессор Ridge показал себя лучше обычной линейной регресии. sMAPE показал 12.27 до того как убрать пропущенные значения, и 13.19 после. Если сравнивать с константной моделью, значение проигрывает на 0.83 и 0.95 соответсвенно. Другие метрики тоже говорят о том, что константная модель адекватнее выбранной\n",
    "\n",
    "После удаления значений NaN модель изменила свои значения. В  общей выборке отсутвует 14% и 10% данных по предсказаниям, возможно это повлияло на качество модели."
   ]
  }
 ],
 "metadata": {
  "kernelspec": {
   "display_name": "Python 3",
   "language": "python",
   "name": "python3"
  },
  "language_info": {
   "codemirror_mode": {
    "name": "ipython",
    "version": 3
   },
   "file_extension": ".py",
   "mimetype": "text/x-python",
   "name": "python",
   "nbconvert_exporter": "python",
   "pygments_lexer": "ipython3",
   "version": "3.7.8"
  },
  "toc": {
   "base_numbering": 1,
   "nav_menu": {},
   "number_sections": true,
   "sideBar": true,
   "skip_h1_title": true,
   "title_cell": "Table of Contents",
   "title_sidebar": "Contents",
   "toc_cell": false,
   "toc_position": {},
   "toc_section_display": true,
   "toc_window_display": false
  }
 },
 "nbformat": 4,
 "nbformat_minor": 2
}
